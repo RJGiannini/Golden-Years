{
 "cells": [
  {
   "cell_type": "code",
   "execution_count": null,
   "source": [
    "#Import necessary packages\r\n",
    "import csv\r\n",
    "from pathlib import Path\r\n",
    "import sys\r\n",
    "import fire\r\n",
    "import questionary\r\n",
    "import os\r\n",
    "import requests\r\n",
    "import json\r\n",
    "import pandas as pd\r\n",
    "import hvplot.pandas\r\n",
    "import plotly.express as px\r\n",
    "from dotenv import load_dotenv\r\n",
    "import alpaca_trade_api as tradeapi\r\n",
    "from MCForecastTools import MCSimulation\r\n",
    "%matplotlib inline\r\n",
    "\r\n",
    "from data.retire import retirement_plan\r\n",
    "from data.comfort import comfort_buffer\r\n",
    "from data.americanstates import fifty_states\r\n"
   ],
   "outputs": [],
   "metadata": {}
  },
  {
   "cell_type": "code",
   "execution_count": null,
   "source": [
    "#api ?\r\n",
    "def eth_api():\r\n",
    "    eth_crypto = print(\"Code here\")\r\n",
    "    return eth_crypto\r\n",
    "\r\n",
    "def btc_api():\r\n",
    "    btc_crypto = print(\"Code here\")\r\n",
    "    return btc_crypto\r\n",
    "\r\n",
    "def fb_stock():\r\n",
    "    fb = print(\"Code for API here\")\r\n",
    "    return fb\r\n",
    "\r\n",
    "def amazon_stock():\r\n",
    "    amazon = print(\"Code for API here\")\r\n",
    "    return amazon\r\n",
    "\r\n",
    "def apple_stock():\r\n",
    "    apple = print(\"Code for API here\")\r\n",
    "    return apple\r\n",
    "\r\n",
    "def netflix_stock():\r\n",
    "    netflix = print(\"Code for API here\")\r\n",
    "    return netflix\r\n",
    "\r\n",
    "def google_stock():\r\n",
    "    google = print(\"Code for API here\")\r\n",
    "    return google"
   ],
   "outputs": [],
   "metadata": {}
  },
  {
   "cell_type": "code",
   "execution_count": null,
   "source": [
    "#write a code that will prompt the user to answer the questions \"Where do you plan to live and how much are you planning to save by 65\"\r\n",
    "def prompting_user_state():\r\n",
    "    \"\"\" Prompt user to choose from a list of fifty states to get started.\r\n",
    "    \r\n",
    "        Return: \"great, this how much you need to live comfortably in (State)____($x)\"\"\"\r\n",
    "    \r\n",
    "    prompt_fifty_states = questionary.select(\"Select a state to get started\",choices=fifty_states).ask()\r\n",
    "   \r\n",
    "    return \"Great, this how much you need to live comfortably in \" + prompt_fifty_states + \" $\" + comfortability_cost(prompt_fifty_states)\r\n",
    "\r\n"
   ],
   "outputs": [],
   "metadata": {}
  },
  {
   "cell_type": "code",
   "execution_count": null,
   "source": [
    "def comfortability_cost(comfort_state):\r\n",
    "    \"\"\"Display comfortability per state\"\"\"\r\n",
    "    stateDic = {}\r\n",
    "    with open(\"./Resources/us_retirement_data.csv\", 'r') as csvfile:\r\n",
    "        csvreader = csv.reader(csvfile)\r\n",
    "        for row in csvreader:\r\n",
    "            stateDic[row[0]] = row[3]\r\n",
    "    return stateDic[comfort_state]"
   ],
   "outputs": [],
   "metadata": {}
  },
  {
   "cell_type": "code",
   "execution_count": null,
   "source": [
    "def investment_choice():\r\n",
    "    \"\"\" Ask user if they plan to invest to increase savings.\r\n",
    "    \r\n",
    "        Return either: yes or no. if no, return to the beginning, if yes, continue with choices.\r\n",
    "    \"\"\"\r\n",
    "    investment_q = questionary.confirm(\"Do you plan to invest to increase your savings?\").ask()\r\n",
    "    if investment_q:\r\n",
    "        investment_stock_crypto()\r\n",
    "    else:\r\n",
    "        run()"
   ],
   "outputs": [],
   "metadata": {}
  },
  {
   "cell_type": "code",
   "execution_count": null,
   "source": [
    "\r\n",
    "def investment_stock_crypto():\r\n",
    "    \"\"\"Prompt user to start with crypto or stocks to view (first).\r\n",
    "    \r\n",
    "        Return either crypto or stock\"\"\"\r\n",
    "\r\n",
    "    stock_crypto = questionary.select(\"Select either 'Stock' or 'Crypto' to get started\",choices=[\"Crypto\",\"Stocks\"]).ask()\r\n",
    "    return \"Sounds like an amazing choice, you've selected \"+ stock_crypto"
   ],
   "outputs": [],
   "metadata": {}
  },
  {
   "cell_type": "code",
   "execution_count": null,
   "source": [
    "\r\n",
    "def investment_stock_crypto():\r\n",
    "    \"\"\"Prompt user to start with crypto or stocks to view (first).\r\n",
    "    \r\n",
    "        Return either crypto or stock\"\"\"\r\n",
    "\r\n",
    "    stock_crypto = questionary.select(\"Select either 'Stock' or 'Crypto' to get started\",choices=[\"Crypto\",\"Stocks\"]).ask()\r\n",
    "    if stock_crypto == \"Crypto\":\r\n",
    "        crypto_api()\r\n",
    "    else:\r\n",
    "        stock_api()\r\n",
    "    \r\n",
    "def crypto_api():\r\n",
    "    \"\"\"This is a segway into crpyto API and Monte Carlo\r\n",
    "        Return information on crypto\"\"\"\r\n",
    "    crypto_btc_eth = questionary.select (\"Crypto is a great to start saving. Select a crypto to continue:\",choices =[\"ETH\",\"BTC\"]).ask()\r\n",
    "    if crypto_btc_eth == \"ETH\":\r\n",
    "        eth_api()\r\n",
    "    else:\r\n",
    "        btc_api()"
   ],
   "outputs": [],
   "metadata": {}
  },
  {
   "cell_type": "code",
   "execution_count": null,
   "source": [
    "def stock_api():\r\n",
    "    \"\"\"This is a segway into the Monte Carlo/API.\r\n",
    "        Return: Monte Carlo/API\"\"\"\r\n",
    "\r\n",
    "    stock_faang = questionary.select(\"Please select a company to begin:\",choices= [\"Facebook\",\"Amazon\",\"Apple\",\"Netflix\",\"Google\"]).ask()\r\n",
    "    if stock_faang == \"Facebook\":\r\n",
    "        fb_stock()\r\n",
    "    elif stock_faang == \"Amazon\":\r\n",
    "        amazon_stock()\r\n",
    "    elif stock_faang == \"Apple\":\r\n",
    "        apple_stock()\r\n",
    "    elif stock_faang == \"Netflix\":\r\n",
    "        netflix_stock()\r\n",
    "    else:\r\n",
    "        google_stock()\r\n"
   ],
   "outputs": [],
   "metadata": {}
  },
  {
   "cell_type": "code",
   "execution_count": null,
   "source": [
    "def run():\r\n",
    "    #load CSV file\r\n",
    "    data = prompting_user_state()\r\n",
    "    print (data)\r\n",
    "    data = investment_choice()\r\n",
    "if __name__==\"__main__\":\r\n",
    "    fire.Fire(run)"
   ],
   "outputs": [],
   "metadata": {}
  },
  {
   "cell_type": "markdown",
   "source": [
    "# Part 2\r\n",
    "Analysis of stocks and crypto currency "
   ],
   "metadata": {}
  },
  {
   "cell_type": "code",
   "execution_count": null,
   "source": [
    "# Load the environment variables from the .env file\r\n",
    "#by calling the load_dotenv function\r\n",
    "load_dotenv()"
   ],
   "outputs": [],
   "metadata": {}
  },
  {
   "cell_type": "markdown",
   "source": [
    "#### Cryptocurrency Analysis\r\n",
    "#### Review the endpoint URLs for the API calls to Free Crypto API in order to get the current pricing information for both BTC and ETH."
   ],
   "metadata": {}
  },
  {
   "cell_type": "code",
   "execution_count": null,
   "source": [
    "# amount that retiree can invest.  Answer from Questionaire.\r\n",
    "savings_amount = 1000"
   ],
   "outputs": [],
   "metadata": {}
  },
  {
   "cell_type": "code",
   "execution_count": null,
   "source": [
    "# The Free Crypto API Call endpoint URLs for the held cryptocurrency assets\r\n",
    "btc_url = \"https://api.alternative.me/v2/ticker/Bitcoin/?convert=USD\"\r\n",
    "eth_url = \"https://api.alternative.me/v2/ticker/Ethereum/?convert=USD\""
   ],
   "outputs": [],
   "metadata": {}
  },
  {
   "cell_type": "markdown",
   "source": [
    "#### Use the Requests library to get the current price (in US dollars) of Bitcoin (BTC) and Ethereum (ETH) by using the API endpoints that the starter code supplied.\r\n"
   ],
   "metadata": {}
  },
  {
   "cell_type": "code",
   "execution_count": null,
   "source": [
    "# Using the Python requests library, make an API call to access the current price of BTC\r\n",
    "btc_response = requests.get(btc_url).json()\r\n",
    "\r\n",
    "# Use the json.dumps function to review the response data from the API call\r\n",
    "# Use the indent and sort_keys parameters to make the response object readable\r\n",
    "print(json.dumps(btc_response, indent=4, sort_keys=True))"
   ],
   "outputs": [],
   "metadata": {}
  },
  {
   "cell_type": "code",
   "execution_count": null,
   "source": [
    "# Using the Python requests library, make an API call to access the current price ETH\r\n",
    "eth_response = requests.get(eth_url).json()\r\n",
    "\r\n",
    "# Use the json.dumps function to review the response data from the API call\r\n",
    "# Use the indent and sort_keys parameters to make the response object readable\r\n",
    "print(json.dumps(eth_response, indent=4, sort_keys=True))\r\n"
   ],
   "outputs": [],
   "metadata": {}
  },
  {
   "cell_type": "markdown",
   "source": [
    "#### Navigate the JSON response object to access the current price of each coin, and store each in a variable."
   ],
   "metadata": {}
  },
  {
   "cell_type": "code",
   "execution_count": null,
   "source": [
    " Navigate the BTC response object to access the current price of BTC\r\n",
    "btc_price = btc_response['data']['1']['quotes']['USD']['price']\r\n",
    "\r\n",
    "# Print the current price of BTC\r\n",
    "print(f\"The price for Bitcoin is ${btc_price:,.2f}\")\r\n"
   ],
   "outputs": [],
   "metadata": {}
  },
  {
   "cell_type": "code",
   "execution_count": null,
   "source": [
    "# Navigate the BTC response object to access the current price of ETH\r\n",
    "eth_price = eth_response['data']['1027']['quotes']['USD']['price']\r\n",
    "\r\n",
    "# Print the current price of ETH\r\n",
    "print(f\"The price for Ethereum is ${eth_price:,.2f}\")"
   ],
   "outputs": [],
   "metadata": {}
  },
  {
   "cell_type": "markdown",
   "source": [
    "#### Calculate the amount of coins the retiree can afford to purchase.  \r\n",
    "#### Take amount able to invest divide by 2, equals \"half the amount\".\r\n",
    "#### Take \"half the amount\" divide by BTC price equals the amount of BTC to purchase.\r\n",
    "#### Take \"half the amount\" divide by ETH price equals the amount of ETH to purchase."
   ],
   "metadata": {}
  },
  {
   "cell_type": "code",
   "execution_count": null,
   "source": [
    "half_savings = savings_amount / 2\r\n",
    "btc_coins = half_savings / btc_price\r\n",
    "eth_coins = half_savings / eth_price"
   ],
   "outputs": [],
   "metadata": {}
  },
  {
   "cell_type": "code",
   "execution_count": null,
   "source": [
    "# Print current holding in BTC\r\n",
    "print(f\"You now are holding {btc_coins} Bitcoin\")"
   ],
   "outputs": [],
   "metadata": {}
  },
  {
   "cell_type": "code",
   "execution_count": null,
   "source": [
    "# Print current holding in ETH\r\n",
    "print(f\"The now are holding {eth_coins} Ethereum\")"
   ],
   "outputs": [],
   "metadata": {}
  },
  {
   "cell_type": "code",
   "execution_count": null,
   "source": [
    "# Read in the CSV file called \"Bitcoin Historical Data.csv\" using the Path module. \r\n",
    "# The CSV file is located in the Resources folder.\r\n",
    "# Set the index to the column \"Date\"\r\n",
    "# Set the parse_dates and infer_datetime_format parameters\r\n",
    "btc_df = pd.read_csv(\r\n",
    "    Path('./Resources/Bitcoin Historical Data.csv'), \r\n",
    "    index_col=\"Date\", parse_dates=True, infer_datetime_format=True)"
   ],
   "outputs": [],
   "metadata": {}
  },
  {
   "cell_type": "code",
   "execution_count": null,
   "source": [
    "btc_df.loc[:,\"Price\"]=btc_df.loc[:,\"Price\"].str.replace(\",\",\"\")\r\n",
    "btc_df.loc[:,\"Price\"]=btc_df.loc[:,\"Price\"].astype(\"float\")\r\n",
    "\r\n",
    "btc_df.loc[:,\"Open\"]=btc_df.loc[:,\"Open\"].str.replace(\",\",\"\")\r\n",
    "btc_df.loc[:,\"Open\"]=btc_df.loc[:,\"Open\"].astype(\"float\")\r\n",
    "\r\n",
    "btc_df.loc[:,\"High\"]=btc_df.loc[:,\"High\"].str.replace(\",\",\"\")\r\n",
    "btc_df.loc[:,\"High\"]=btc_df.loc[:,\"High\"].astype(\"float\")\r\n",
    "\r\n",
    "btc_df.loc[:,\"Low\"]=btc_df.loc[:,\"Low\"].str.replace(\",\",\"\")\r\n",
    "btc_df.loc[:,\"Low\"]=btc_df.loc[:,\"Low\"].astype(\"float\")\r\n",
    "\r\n",
    "btc_df = btc_df.drop(columns=[\"Change %\"])"
   ],
   "outputs": [],
   "metadata": {}
  },
  {
   "cell_type": "code",
   "execution_count": null,
   "source": [
    "# This function converts the string values into a floating point number\r\n",
    "def clean_currency(price_string):\r\n",
    "    price = price_string\r\n",
    "    if type(price_string) == str:\r\n",
    "        price_string = price_string.replace('$', '')\r\n",
    "        if price_string[-1] == 'K':\r\n",
    "            thousand = 1000\r\n",
    "            price_string = price_string.replace('K', '')\r\n",
    "            price = float(price_string)\r\n",
    "            price = price * thousand\r\n",
    "        elif price_string[-1] == 'M':\r\n",
    "            million = 1000000\r\n",
    "            price_string = price_string.replace('M', '')\r\n",
    "            price = float(price_string)\r\n",
    "            price = price * million\r\n",
    "        else:\r\n",
    "            billion = 1000000000\r\n",
    "            price_string = price_string.replace('B', '')\r\n",
    "            price = float(price_string)\r\n",
    "            price = price * billion\r\n",
    "    return price"
   ],
   "outputs": [],
   "metadata": {}
  },
  {
   "cell_type": "code",
   "execution_count": null,
   "source": [
    "btc_df['Vol.'] = btc_df['Vol.'].apply(clean_currency)\r\n",
    "list(btc_df.columns)"
   ],
   "outputs": [],
   "metadata": {}
  },
  {
   "cell_type": "code",
   "execution_count": null,
   "source": [
    "btc_df2 = btc_df[['Open', 'High', 'Low', 'Price', 'Vol.']]\r\n",
    "columns = [\"open\", \"high\",\" low\", \"close\", \"volume\"]\r\n",
    "btc_df2.columns = columns\r\n",
    "btc_df2.keys()\r\n"
   ],
   "outputs": [],
   "metadata": {}
  },
  {
   "cell_type": "code",
   "execution_count": null,
   "source": [
    "# Read in the CSV file called \"Bitcoin Historical Data.csv\" using the Path module. \r\n",
    "# The CSV file is located in the Resources folder.\r\n",
    "# Set the index to the column \"Date\"\r\n",
    "# Set the parse_dates and infer_datetime_format parameters\r\n",
    "eth_df = pd.read_csv(\r\n",
    "    Path('./Resources/Ethereum Historical Data.csv'), \r\n",
    "    index_col=\"Date\", parse_dates=True, infer_datetime_format=True)"
   ],
   "outputs": [],
   "metadata": {}
  },
  {
   "cell_type": "code",
   "execution_count": null,
   "source": [
    "eth_df.loc[:,\"Price\"]=eth_df.loc[:,\"Price\"].str.replace(\",\",\"\")\r\n",
    "eth_df.loc[:,\"Price\"]=eth_df.loc[:,\"Price\"].astype(\"float\")\r\n",
    "\r\n",
    "eth_df.loc[:,\"Open\"]=eth_df.loc[:,\"Open\"].str.replace(\",\",\"\")\r\n",
    "eth_df.loc[:,\"Open\"]=eth_df.loc[:,\"Open\"].astype(\"float\")\r\n",
    "\r\n",
    "eth_df.loc[:,\"High\"]=eth_df.loc[:,\"High\"].str.replace(\",\",\"\")\r\n",
    "eth_df.loc[:,\"High\"]=eth_df.loc[:,\"High\"].astype(\"float\")\r\n",
    "\r\n",
    "eth_df.loc[:,\"Low\"]=eth_df.loc[:,\"Low\"].str.replace(\",\",\"\")\r\n",
    "eth_df.loc[:,\"Low\"]=eth_df.loc[:,\"Low\"].astype(\"float\")\r\n",
    "\r\n",
    "eth_df = eth_df.drop(columns=[\"Change %\"])\r\n",
    "\r\n",
    "eth_df['Vol.'] = eth_df['Vol.'].apply(clean_currency)"
   ],
   "outputs": [],
   "metadata": {}
  },
  {
   "cell_type": "code",
   "execution_count": null,
   "source": [
    "eth_df2 = eth_df[['Open', 'High', 'Low', 'Price', 'Vol.']]\r\n",
    "columns = [\"open\", \"high\",\" low\", \"close\", \"volume\"]\r\n",
    "eth_df2.columns = columns\r\n",
    "eth_df2.head()"
   ],
   "outputs": [],
   "metadata": {}
  },
  {
   "cell_type": "code",
   "execution_count": null,
   "source": [
    "# Create a dictionary of the two dataframes\r\n",
    "to_merge_dict = {'BTC': btc_df2 , 'ETH': eth_df2}"
   ],
   "outputs": [],
   "metadata": {}
  },
  {
   "cell_type": "code",
   "execution_count": null,
   "source": [
    "# Use concat to create a merged dataframe from the dictionary\r\n",
    "merged_df = pd.concat(to_merge_dict.values(), axis=1, keys=to_merge_dict.keys())"
   ],
   "outputs": [],
   "metadata": {}
  },
  {
   "cell_type": "code",
   "execution_count": null,
   "source": [
    "merged_df.head()"
   ],
   "outputs": [],
   "metadata": {}
  },
  {
   "cell_type": "code",
   "execution_count": null,
   "source": [
    "# Configure the Monte Carlo simulation to forecast 30 years cumulative returns\r\n",
    "# Run 500 samples.\r\n",
    "MC_cryptothirtyyear = MCSimulation(\r\n",
    "  portfolio_data = merged_df,\r\n",
    "  weights = [.5, .5],\r\n",
    "  num_simulation = 500,\r\n",
    "  num_trading_days = 252*30\r\n",
    ")\r\n",
    "\r\n",
    "# Review the simulation input data\r\n",
    "MC_cryptothirtyyear.portfolio_data.head()"
   ],
   "outputs": [],
   "metadata": {}
  },
  {
   "cell_type": "code",
   "execution_count": null,
   "source": [
    "# Run the Monte Carlo simulation to forecast 30 years cumulative returns\r\n",
    "MC_cryptothirtyyear.calc_cumulative_return()\r\n",
    "\r\n",
    "# Visualize the probability distribution of the 30-year Monte Carlo simulation \r\n",
    "# by plotting a histogram\r\n",
    "MC_sim_dist_plot = MC_cryptothirtyyear.plot_distribution()\r\n"
   ],
   "outputs": [],
   "metadata": {}
  },
  {
   "cell_type": "code",
   "execution_count": null,
   "source": [
    "# Generate summary statistics from the 30-year Monte Carlo simulation results\r\n",
    "# Save the results as a variable\r\n",
    "MC_summary_statistics = MC_cryptothirtyyear.summarize_cumulative_return()\r\n",
    "\r\n",
    "\r\n",
    "# Review the 30-year Monte Carlo summary statistics\r\n",
    "print(MC_summary_statistics)"
   ],
   "outputs": [],
   "metadata": {}
  },
  {
   "cell_type": "code",
   "execution_count": null,
   "source": [
    "# Print the current balance of the stock and bond portion of the members portfolio\r\n",
    "print(f\"The current balance of cryptocurrency is ${savings_amount:,.2f}\")"
   ],
   "outputs": [],
   "metadata": {}
  },
  {
   "cell_type": "code",
   "execution_count": null,
   "source": [
    "# Use the lower and upper `95%` confidence intervals to calculate the range of the possible outcomes for the current stock/bond portfolio\r\n",
    "ci_lower_thirty_cumulative_return = MC_summary_statistics[8]*savings_amount\r\n",
    "ci_upper_thirty_cumulative_return = MC_summary_statistics[9]*savings_amount\r\n",
    "\r\n",
    "# Print the result of your calculations\r\n",
    "print(f\"There is a 95% chance that the portfolio over the next 30 years will end within in the range of ${ci_lower_thirty_cumulative_return:,.2f} and ${ci_upper_thirty_cumulative_return:,.2f}.\")"
   ],
   "outputs": [],
   "metadata": {}
  },
  {
   "cell_type": "markdown",
   "source": [
    "## Part 3\r\n",
    "### Coding for FAANG portion begins here"
   ],
   "metadata": {}
  },
  {
   "cell_type": "markdown",
   "source": [
    "#### Set the variables for the Alpaca API and secret keys. Using the Alpaca SDK, create the Alpaca `tradeapi.REST` object. In this object, include the parameters for the Alpaca API key, the secret key, and the version number."
   ],
   "metadata": {}
  },
  {
   "cell_type": "code",
   "execution_count": null,
   "source": [
    "# Set the variables for the Alpaca API and secret keys\r\n",
    "alpaca_api_key = os.getenv(\"ALPACA_API_KEY\")\r\n",
    "alpaca_secret_key = os.getenv(\"ALPACA_SECRET_KEY\")\r\n",
    "\r\n",
    "# Create the Alpaca tradeapi.REST object\r\n",
    "alpaca = tradeapi.REST(\r\n",
    "    alpaca_api_key,\r\n",
    "    alpaca_secret_key,\r\n",
    "    api_version=\"v2\")\r\n"
   ],
   "outputs": [],
   "metadata": {}
  },
  {
   "cell_type": "markdown",
   "source": [
    "#### Set the following parameters for the Alpaca API call:\r\n",
    "\r\n",
    "- `tickers`: Use the tickers for the member’s stock and bond holdings.\r\n",
    "\r\n",
    "- `timeframe`: Use a time frame of one day.\r\n",
    "\r\n",
    "- `start_date` and `end_date`: using 7/30/2018 - 7/30/2021\r\n"
   ],
   "metadata": {}
  },
  {
   "cell_type": "code",
   "execution_count": null,
   "source": [
    "# Set the tickers for the stock portion of the portfolio\r\n",
    "tickers = [\"FB\", \"AMZN\", \"AAPL\", \"NFLX\", \"GOOG\"]\r\n",
    "\r\n",
    "# Set timeframe to 1D \r\n",
    "timeframe = \"1D\"\r\n",
    "\r\n",
    "# Format current date as ISO format\r\n",
    "# Set both the start and end date at the date of your prior weekday \r\n",
    "# This will give you the closing price of the previous trading day\r\n",
    "# Alternatively you can use a start and end date of 2020-08-07\r\n",
    "start_date = pd.Timestamp(\"2021-07-30\", tz=\"America/New_York\").isoformat()\r\n",
    "end_date = pd.Timestamp(\"2021-07-30\", tz=\"America/New_York\").isoformat()"
   ],
   "outputs": [],
   "metadata": {}
  },
  {
   "cell_type": "code",
   "execution_count": null,
   "source": [
    "# Use the Alpaca get_barset function to get current closing prices the portfolio\r\n",
    "# Be sure to set the `df` property after the function to format the response object as a DataFrame\r\n",
    "df_portfolio = alpaca.get_barset(\r\n",
    "    tickers,\r\n",
    "    timeframe,\r\n",
    "    start = start_date,\r\n",
    "    end = end_date\r\n",
    ").df\r\n",
    "\r\n",
    "# Review the first 5 rows of the Alpaca DataFrame\r\n",
    "df_portfolio.head()"
   ],
   "outputs": [],
   "metadata": {}
  },
  {
   "cell_type": "code",
   "execution_count": null,
   "source": [
    "# Access the closing price for FB from the Alpaca DataFrame\r\n",
    "# Converting the value to a floating point number\r\n",
    "fb_close_price = df_portfolio[\"FB\"][\"close\"]\r\n",
    "fb_close_price = float(fb_close_price)\r\n",
    "# Print the FB closing price\r\n",
    "print(f\"The closing price of Facebook is ${fb_close_price:,.2f}\")"
   ],
   "outputs": [],
   "metadata": {}
  },
  {
   "cell_type": "code",
   "execution_count": null,
   "source": [
    "# Access the closing price for AMZN from the Alpaca DataFrame\r\n",
    "# Converting the value to a floating point number\r\n",
    "amzn_close_price = df_portfolio[\"AMZN\"][\"close\"]\r\n",
    "amzn_close_price = float(amzn_close_price)\r\n",
    "# Print the AMZN closing price\r\n",
    "print(f\"The closing price of Amazon is ${amzn_close_price:,.2f}\")"
   ],
   "outputs": [],
   "metadata": {}
  },
  {
   "cell_type": "code",
   "execution_count": null,
   "source": [
    "# Access the closing price for FB from the Alpaca DataFrame\r\n",
    "# Converting the value to a floating point number\r\n",
    "aapl_close_price = df_portfolio[\"AAPL\"][\"close\"]\r\n",
    "aapl_close_price = float(aapl_close_price)\r\n",
    "# Print the AAPL closing price\r\n",
    "print(f\"The closing price of Apple is ${aapl_close_price:,.2f}\")"
   ],
   "outputs": [],
   "metadata": {}
  },
  {
   "cell_type": "code",
   "execution_count": null,
   "source": [
    "# Access the closing price for FB from the Alpaca DataFrame\r\n",
    "# Converting the value to a floating point number\r\n",
    "nflx_close_price = df_portfolio[\"NFLX\"][\"close\"]\r\n",
    "nflx_close_price = float(nflx_close_price)\r\n",
    "# Print the NFLX closing price\r\n",
    "print(f\"The closing price of Netflix is ${nflx_close_price:,.2f}\")"
   ],
   "outputs": [],
   "metadata": {}
  },
  {
   "cell_type": "code",
   "execution_count": null,
   "source": [
    "# Access the closing price for GOOG from the Alpaca DataFrame\r\n",
    "# Converting the value to a floating point number\r\n",
    "goog_close_price = df_portfolio[\"GOOG\"][\"close\"]\r\n",
    "goog_close_price = float(goog_close_price)\r\n",
    "# Print the GOOG closing price\r\n",
    "print(f\"The closing price of Google is ${goog_close_price:,.2f}\")"
   ],
   "outputs": [],
   "metadata": {}
  },
  {
   "cell_type": "markdown",
   "source": [
    "## Create a Financial Planner for Retirement\r\n",
    "### Create the Monte Carlo Simulation\r\n",
    "\r\n",
    "In this section, you’ll use the MCForecastTools library to create a Monte Carlo simulation for the member’s savings portfolio. To do this, complete the following steps:\r\n",
    "\r\n",
    "1. Make an API call via the Alpaca SDK to get 3 years of historical closing prices for an even 5-way split between FAANG stocks.\r\n",
    "\r\n",
    "2. Run a Monte Carlo simulation of 500 samples and (ANSWER FROM QUESTIONAIRE) for the FAANG portfolio, and then plot the results.The following image shows the overlay line plot resulting from a simulation with these characteristics.\r\n",
    "\r\n",
    "3. Plot the probability distribution of the Monte Carlo simulation. Plot the probability distribution of the Monte Carlo simulation. The following image shows the histogram plot resulting from a simulation with these characteristics.\r\n",
    "\r\n",
    "4. Generate the summary statistics for the Monte Carlo simulation.\r\n"
   ],
   "metadata": {}
  },
  {
   "cell_type": "markdown",
   "source": [
    "#### Make an API call via the Alpaca SDK to get 3 years of historical closing prices for FAANG"
   ],
   "metadata": {}
  },
  {
   "cell_type": "code",
   "execution_count": null,
   "source": [
    "# Set start and end dates of 3 years back from your current date\r\n",
    "# Alternatively, you can use an end date of 2020-08-07 and work 3 years back from that date \r\n",
    "start_date = pd.Timestamp(\"2018-07-30\", tz=\"America/New_York\").isoformat()\r\n",
    "end_date = pd.Timestamp(\"2021-07-30\", tz=\"America/New_York\").isoformat()\r\n",
    "\r\n",
    "# Set number of rows to 1000 to retrieve the maximum amount of rows\r\n",
    "limit_rows = 1000"
   ],
   "outputs": [],
   "metadata": {}
  },
  {
   "cell_type": "code",
   "execution_count": null,
   "source": [
    "# Use the Alpaca get_barset function to make the API call to get the 3 years worth of pricing data\r\n",
    "# The tickers and timeframe parameters should have been set in Part 1 of this activity \r\n",
    "# The start and end dates should be updated with the information set above\r\n",
    "# Remember to add the df property to the end of the call so the response is returned as a DataFrame\r\n",
    "prices_df = alpaca.get_barset(\r\n",
    "  tickers,\r\n",
    "  timeframe,\r\n",
    "  start=start_date,\r\n",
    "  end=end_date,\r\n",
    "  limit=limit_rows\r\n",
    ").df\r\n",
    "\r\n",
    "\r\n",
    "# Display both the first and last five rows of the DataFrame\r\n",
    "display(prices_df.head())\r\n",
    "display(prices_df.tail())"
   ],
   "outputs": [],
   "metadata": {}
  },
  {
   "cell_type": "code",
   "execution_count": null,
   "source": [
    "# Configure the Monte Carlo simulation to forecast 30 years cumulative returns\r\n",
    "# Run 500 samples.\r\n",
    "MC_thirtyyear_faang = MCSimulation(\r\n",
    "  portfolio_data = prices_df,\r\n",
    "  weights = [.2, .2, .2, .2, .2],\r\n",
    "  num_simulation = 500,\r\n",
    "  num_trading_days = 252*30\r\n",
    ")\r\n",
    "\r\n",
    "# Review the simulation input data\r\n",
    "MC_thirtyyear_faang.portfolio_data.head()"
   ],
   "outputs": [],
   "metadata": {}
  },
  {
   "cell_type": "code",
   "execution_count": null,
   "source": [
    "# Visualize the 30-year Monte Carlo simulation by creating an\r\n",
    "# overlay line plot\r\n",
    "MC_sim_line_plot = MC_thirtyyear_faang.plot_simulation()\r\n"
   ],
   "outputs": [],
   "metadata": {}
  },
  {
   "cell_type": "code",
   "execution_count": null,
   "source": [
    "# Visualize the probability distribution of the 30-year Monte Carlo simulation \r\n",
    "# by plotting a histogram\r\n",
    "MC_sim_dist_plot = MC_thirtyyear_faang.plot_distribution()"
   ],
   "outputs": [],
   "metadata": {}
  },
  {
   "cell_type": "markdown",
   "source": [
    "#### Generate the summary statistics for the Monte Carlo simulation."
   ],
   "metadata": {}
  },
  {
   "cell_type": "code",
   "execution_count": null,
   "source": [
    "# Generate summary statistics from the 30-year Monte Carlo simulation results\r\n",
    "# Save the results as a variable\r\n",
    "MC_summary_statistics = MC_thirtyyear_faang.summarize_cumulative_return()\r\n",
    "\r\n",
    "\r\n",
    "# Review the 30-year Monte Carlo summary statistics\r\n",
    "print(MC_summary_statistics)"
   ],
   "outputs": [],
   "metadata": {}
  },
  {
   "cell_type": "markdown",
   "source": [
    "### Analyze the Retirement Portfolio Forecasts\r\n",
    "\r\n",
    "Using the current value of only the stock and bond portion of the member's portfolio and the summary statistics that you generated from the Monte Carlo simulation, answer the following question in your Jupyter notebook:\r\n",
    "\r\n",
    "-  What are the lower and upper bounds for the expected value of the portfolio with a 95% confidence interval?"
   ],
   "metadata": {}
  },
  {
   "cell_type": "code",
   "execution_count": null,
   "source": [
    "# Print the current balance of the stock and bond portion of the members portfolio\r\n",
    "print(f\"The current balance of your investing in FAANG stocks is ${savings_amount:,.2f}\")"
   ],
   "outputs": [],
   "metadata": {}
  },
  {
   "cell_type": "code",
   "execution_count": null,
   "source": [
    "# Use the lower and upper `95%` confidence intervals to calculate the range of the possible outcomes for the current stock/bond portfolio\r\n",
    "ci_lower_thirty_cumulative_return = MC_summary_statistics[8]*savings_amount\r\n",
    "ci_upper_thirty_cumulative_return = MC_summary_statistics[9]*savings_amount\r\n",
    "\r\n",
    "# Print the result of your calculations\r\n",
    "print(f\"There is a 95% chance that the portfolio over the next 30 years will end within in the range of ${ci_lower_thirty_cumulative_return:,.2f} and ${ci_upper_thirty_cumulative_return:,.2f}.\")\r\n"
   ],
   "outputs": [],
   "metadata": {}
  },
  {
   "cell_type": "markdown",
   "source": [
    "## Coding for top 4 popular mutual funds\r\n",
    "https://www.marketwatch.com/tools/mutual-fund/top25largest"
   ],
   "metadata": {}
  },
  {
   "cell_type": "code",
   "execution_count": null,
   "source": [
    "tickers = [\"SPY\", \"IVV\", \"VTI\", \"VOO\"]"
   ],
   "outputs": [],
   "metadata": {}
  },
  {
   "cell_type": "code",
   "execution_count": null,
   "source": [
    "prices_df = alpaca.get_barset(\r\n",
    "  tickers,\r\n",
    "  timeframe,\r\n",
    "  start=start_date,\r\n",
    "  end=end_date,\r\n",
    "  limit=limit_rows\r\n",
    ").df\r\n",
    "\r\n",
    "display(prices_df.head())\r\n",
    "display(prices_df.tail())"
   ],
   "outputs": [],
   "metadata": {}
  },
  {
   "cell_type": "code",
   "execution_count": null,
   "source": [
    "# Configure the Monte Carlo simulation to forecast 30 years cumulative returns\r\n",
    "# Run 500 samples.\r\n",
    "MC_thirtyyear_funds = MCSimulation(\r\n",
    "  portfolio_data = prices_df,\r\n",
    "  weights = [.25, .25, .25, .25],\r\n",
    "  num_simulation = 500,\r\n",
    "  num_trading_days = 252*30\r\n",
    ")\r\n",
    "\r\n",
    "# Review the simulation input data\r\n",
    "MC_thirtyyear_funds.portfolio_data.head()"
   ],
   "outputs": [],
   "metadata": {}
  },
  {
   "cell_type": "code",
   "execution_count": null,
   "source": [
    "# Run the Monte Carlo simulation to forecast 30 years cumulative returns\r\n",
    "MC_thirtyyear_funds.calc_cumulative_return()\r\n"
   ],
   "outputs": [],
   "metadata": {}
  },
  {
   "cell_type": "code",
   "execution_count": null,
   "source": [
    "# Visualize the 30-year Monte Carlo simulation by creating an\r\n",
    "# overlay line plot\r\n",
    "MC_sim_line_plot = MC_thirtyyear_funds.plot_simulation()"
   ],
   "outputs": [],
   "metadata": {}
  },
  {
   "cell_type": "code",
   "execution_count": null,
   "source": [
    "# Visualize the probability distribution of the 30-year Monte Carlo simulation \r\n",
    "# by plotting a histogram\r\n",
    "MC_sim_dist_plot = MC_thirtyyear_funds.plot_distribution()"
   ],
   "outputs": [],
   "metadata": {}
  },
  {
   "cell_type": "code",
   "execution_count": null,
   "source": [
    "# Generate summary statistics from the 30-year Monte Carlo simulation results\r\n",
    "# Save the results as a variable\r\n",
    "MC_summary_statistics = MC_thirtyyear_funds.summarize_cumulative_return()\r\n",
    "\r\n",
    "\r\n",
    "# Review the 30-year Monte Carlo summary statistics\r\n",
    "print(MC_summary_statistics)"
   ],
   "outputs": [],
   "metadata": {}
  },
  {
   "cell_type": "code",
   "execution_count": null,
   "source": [
    "# Print the current balance of the mutual funds of the members portfolio\r\n",
    "print(f\"The current balance of your investing in mutual funds is ${savings_amount:,.2f}\")"
   ],
   "outputs": [],
   "metadata": {}
  },
  {
   "cell_type": "code",
   "execution_count": null,
   "source": [
    "# Use the lower and upper `95%` confidence intervals to calculate the range of the possible outcomes for the current mutual fund portfolio\r\n",
    "ci_lower_thirty_cumulative_return = MC_summary_statistics[8]*savings_amount\r\n",
    "ci_upper_thirty_cumulative_return = MC_summary_statistics[9]*savings_amount\r\n",
    "\r\n",
    "# Print the result of your calculations\r\n",
    "print(f\"There is a 95% chance that the portfolio over the next 30 years will end within in the range of ${ci_lower_thirty_cumulative_return:,.2f} and ${ci_upper_thirty_cumulative_return:,.2f}.\")"
   ],
   "outputs": [],
   "metadata": {}
  },
  {
   "cell_type": "markdown",
   "source": [
    "## Comparing investing in a \"safe\" bank account (i.e. high yield savings account, CD)\r\n",
    "Compound Interest Formula FV = P (1 + r / n)^Yn, where P is the starting principal, r is the annual interest rate, Y is the number of years invested, and n is the number of compounding periods per year. FV is the future value, meaning the amount the principal grows to after Y years."
   ],
   "metadata": {}
  },
  {
   "cell_type": "code",
   "execution_count": null,
   "source": [
    "P = int(input(\"Enter starting principle please. \"))\r\n",
    "n = int(input(\"Enter number of compounding periods per year. \"))\r\n",
    "r = float(input(\"Enter annual interest rate. e.g. 15 for 15% \"))\r\n",
    "y = int(input(\"Enter the amount of years. \"))\r\n",
    "\r\n",
    "FV = P * (((1 + ((r/100.0)/n)) ** (n*y)))\r\n",
    "\r\n",
    "print(f\"The final amount after\", y, f\"years is ${FV:,.2f}.\")"
   ],
   "outputs": [],
   "metadata": {}
  },
  {
   "cell_type": "code",
   "execution_count": null,
   "source": [
    "# another way to write code for compounding interest.  can tinker with it to make into function that takes in variables from questionaire?\r\n",
    "\r\n",
    "years = range(1,31)\r\n",
    "rate = 0.07\r\n",
    "rates = pd.Series(index = years, data = rate)\r\n",
    "\r\n",
    "x = 1000*((rates + 1).cumprod())\r\n",
    "final_amount = x.tail(1).item()\r\n",
    "print(f\"${final_amount:,.2f}.\")\r\n"
   ],
   "outputs": [],
   "metadata": {}
  },
  {
   "cell_type": "markdown",
   "source": [
    "## Part 4 "
   ],
   "metadata": {}
  },
  {
   "cell_type": "markdown",
   "source": [
    "## Loading `.env` file to Read MapBox API Key and Printing type to confirm API access."
   ],
   "metadata": {}
  },
  {
   "cell_type": "code",
   "execution_count": null,
   "source": [
    "# Loading the .env file into the notebook.\r\n",
    "load_dotenv()\r\n",
    "\r\n",
    "# Reading in the MAPBOX_API_KEY.\r\n",
    "mapbox_api_access_token = os.getenv(\"MAPBOX_API_ACCESS_TOKEN\")"
   ],
   "outputs": [],
   "metadata": {}
  },
  {
   "cell_type": "code",
   "execution_count": null,
   "source": [
    "# Confirming the availability of the Mapbox API access token by checking its type.\r\n",
    "print(type(mapbox_api_access_token))\r\n",
    "\r\n",
    "# Setting Mapbox API access token.\r\n",
    "px.set_mapbox_access_token(mapbox_api_access_token)"
   ],
   "outputs": [],
   "metadata": {}
  },
  {
   "cell_type": "markdown",
   "source": [
    "## Loading State Coordinates Data from `coordinates.csv` file and using `.head()` and `.tail()` functions to display First and Last Five rows of DataFrame."
   ],
   "metadata": {}
  },
  {
   "cell_type": "code",
   "execution_count": null,
   "source": [
    "# Loading state coordinates data.\r\n",
    "state_coordinates_df = pd.read_csv(Path(\"../Resources/coordinates.csv\", index_col=\"States\"))\r\n",
    "state_coordinates_df.set_index('States', inplace=True)\r\n",
    "# Reviewing the DataFrame.\r\n",
    "display(state_coordinates_df.head())\r\n",
    "display(state_coordinates_df.tail())"
   ],
   "outputs": [],
   "metadata": {}
  },
  {
   "cell_type": "markdown",
   "source": [
    "## Loading US Retirement Data from `us_retirement_data.csv` file and using `.head()` and `.tail()` functions to display First and Last Five rows of DataFrame"
   ],
   "metadata": {}
  },
  {
   "cell_type": "code",
   "execution_count": null,
   "source": [
    "# Using the read_csv function, Path module, and creating a DataFrame \r\n",
    "# by importing the us_retirement_data.csv file from the Resources folder.\r\n",
    "us_retirement_data_df = pd.read_csv(Path(\"../Resources/us_retirement_data.csv\"))\r\n",
    "\r\n",
    "# Reviewing the first and last five rows of the DataFrame.\r\n",
    "display(us_retirement_data_df.head())\r\n",
    "display(us_retirement_data_df.tail())\r\n"
   ],
   "outputs": [],
   "metadata": {}
  },
  {
   "cell_type": "markdown",
   "source": [
    "## Grouping US Retirement DataFrame by State and displaying."
   ],
   "metadata": {}
  },
  {
   "cell_type": "code",
   "execution_count": null,
   "source": [
    "# Using the Pandas `concat` function to join the \r\n",
    "# state_coordinates_df and retirement_by_state DataFrames\r\n",
    "# The axis of the concatenation is \"columns\".\r\n",
    "# The concat function will automatially combine columns with\r\n",
    "# identical information, while keeping the additional columns.\r\n",
    "all_states_retirement_df = pd.concat(\r\n",
    "    [state_coordinates_df, retirement_by_state], \r\n",
    "    axis=\"columns\",\r\n",
    "    sort=False\r\n",
    ")\r\n",
    "\r\n",
    "# Reviewing the resulting DataFrame.\r\n",
    "display(all_states_retirement_df.head())\r\n",
    "display(all_states_retirement_df.tail())"
   ],
   "outputs": [],
   "metadata": {}
  },
  {
   "cell_type": "markdown",
   "source": [
    "## Creating a Scatter Mapbox of all states in USA to analyze Retirement Data (Cost of Living, Comfort Buffer, and Comfortable Retirement)"
   ],
   "metadata": {}
  },
  {
   "cell_type": "code",
   "execution_count": null,
   "source": [
    "# Creating a scatter mapbox to analyze retirement info of all states.\r\n",
    "mapbox = px.scatter_mapbox(\r\n",
    "    all_states_retirement_df,\r\n",
    "    lat=\"Lat\",\r\n",
    "    lon=\"Lon\",\r\n",
    "    size=\"cost_of_living\",\r\n",
    "    color=\"comfortable_retirement\",\r\n",
    "    size_max=15,\r\n",
    "    zoom=1.65\r\n",
    ")\r\n",
    "mapbox"
   ],
   "outputs": [],
   "metadata": {}
  },
  {
   "cell_type": "markdown",
   "source": [
    "## Loading Popular Retirement Accounts in the USA from `popular_retirement_accounts_usa_survey.csv` file, setting index to `account_responses`, and displaying DataFrame."
   ],
   "metadata": {}
  },
  {
   "cell_type": "code",
   "execution_count": null,
   "source": [
    "popular_retirement_accounts_usa_survey_df = pd.read_csv(\r\n",
    "    Path(\"../Resources/popular_retirement_accounts_usa_survey.csv\",\r\n",
    "    index_col=\"account_responses\"))\r\n",
    "\r\n",
    "popular_retirement_accounts_usa_survey_df.set_index(\"account_responses\", inplace=True)\r\n",
    "\r\n",
    "popular_retirement_accounts_usa_survey_df.head()"
   ],
   "outputs": [],
   "metadata": {}
  },
  {
   "cell_type": "markdown",
   "source": [
    "## Creating a Pie Chart of Popular Retirement Accounts (USA)"
   ],
   "metadata": {}
  },
  {
   "cell_type": "code",
   "execution_count": null,
   "source": [
    "popular_retirement_accounts_usa_survey_df.plot.pie(figsize=(20,14),\r\n",
    "    y='amount', title='Popular Retirement Accounts (USA)')"
   ],
   "outputs": [],
   "metadata": {}
  },
  {
   "cell_type": "markdown",
   "source": [
    "## Loading Retiree Confidence Survey from `us_retiree_basic_expenses_covered_confidence.csv` file, setting index to `confidence_rating`, and displaying DataFrame."
   ],
   "metadata": {}
  },
  {
   "cell_type": "code",
   "execution_count": null,
   "source": [
    "retiree_confidence_df = pd.read_csv(\r\n",
    "    Path(\"../Resources/us_retiree_basic_expenses_covered_confidence.csv\",\r\n",
    "         index_col=\"confidence_rating\"))\r\n",
    "\r\n",
    "retiree_confidence_df.set_index(\"confidence_rating\", inplace=True)\r\n",
    "\r\n",
    "retiree_confidence_df.head()"
   ],
   "outputs": [],
   "metadata": {}
  },
  {
   "cell_type": "code",
   "execution_count": null,
   "source": [
    "retiree_confidence_df.hvplot.bar(figsize=(20,14), x='confidence_rating',\r\n",
    "    y='outcome', title='Retiree Confidence Rating (USA)')"
   ],
   "outputs": [],
   "metadata": {}
  }
 ],
 "metadata": {
  "orig_nbformat": 4,
  "language_info": {
   "name": "python"
  }
 },
 "nbformat": 4,
 "nbformat_minor": 2
}