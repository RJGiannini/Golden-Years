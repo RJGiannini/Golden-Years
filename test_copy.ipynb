{
 "cells": [
  {
   "cell_type": "code",
   "execution_count": null,
   "source": [
    "#Import necessary packages\r\n",
    "import csv\r\n",
    "from pathlib import Path\r\n",
    "import sys\r\n",
    "import fire\r\n",
    "import questionary\r\n",
    "import os\r\n",
    "import requests\r\n",
    "import json\r\n",
    "import pandas as pd\r\n",
    "import hvplot.pandas\r\n",
    "import plotly.express as px\r\n",
    "from dotenv import load_dotenv\r\n",
    "import alpaca_trade_api as tradeapi\r\n",
    "from MCForecastTools import MCSimulation\r\n",
    "%matplotlib inline\r\n",
    "\r\n",
    "from data.retire import retirement_plan\r\n",
    "from data.comfort import comfort_buffer\r\n",
    "from data.americanstates import fifty_states\r\n"
   ],
   "outputs": [],
   "metadata": {}
  },
  {
   "cell_type": "code",
   "execution_count": null,
   "source": [
    "#write a code that will prompt the user to answer the questions \"Where do you plan to live and how much are you planning to save by 65\"\r\n",
    "def prompting_user_state():\r\n",
    "    \"\"\" Prompt user to choose from a list of fifty states to get started.\r\n",
    "    \r\n",
    "        Return: \"great, this how much you need to live comfortably in (State)____($x)\"\"\"\r\n",
    "    \r\n",
    "    prompt_fifty_states = questionary.select(\"Select a state to get started\",choices=fifty_states).ask()\r\n",
    "   \r\n",
    "    return \"Great, this how much you need to live comfortably in \" + prompt_fifty_states + \" $\" + comfortability_cost(prompt_fifty_states)\r\n"
   ],
   "outputs": [],
   "metadata": {}
  },
  {
   "cell_type": "code",
   "execution_count": null,
   "source": [
    "def comfortability_cost(comfort_state):\r\n",
    "    \"\"\"Display comfortability per state\"\"\"\r\n",
    "    stateDic = {}\r\n",
    "    with open(\"./Resources/us_retirement_data.csv\", 'r') as csvfile:\r\n",
    "        csvreader = csv.reader(csvfile)\r\n",
    "        for row in csvreader:\r\n",
    "            stateDic[row[0]] = row[3]\r\n",
    "    return stateDic[comfort_state]"
   ],
   "outputs": [],
   "metadata": {}
  },
  {
   "cell_type": "code",
   "execution_count": null,
   "source": [
    "\r\n",
    "def investment_choice():\r\n",
    "    \"\"\" Ask user if they plan to invest to increase savings.\r\n",
    "    \r\n",
    "        Return either: yes or no. if no, return to the beginning, if yes, continue with choices.\r\n",
    "    \"\"\"\r\n",
    "    investment_q = questionary.confirm(\"Do you plan to invest to increase your savings?\").ask()\r\n",
    "    if investment_q:\r\n",
    "        data = investment_stock_crypto()\r\n",
    "        print (data)\r\n",
    "    else:\r\n",
    "        run()"
   ],
   "outputs": [],
   "metadata": {}
  },
  {
   "cell_type": "code",
   "execution_count": null,
   "source": [
    "\r\n",
    "def investment_stock_crypto():\r\n",
    "    \"\"\"Prompt user to start with crypto or stocks to view (first).\r\n",
    "    \r\n",
    "        Return either crypto or stock\"\"\"\r\n",
    "\r\n",
    "    stock_crypto = questionary.select(\"Select either 'Stock' or 'Crypto' to get started\",choices=[\"Crypto\",\"Stocks\"]).ask()\r\n",
    "    return \"Sounds like an amazing choice, you've selected \"+ stock_crypto"
   ],
   "outputs": [],
   "metadata": {}
  },
  {
   "cell_type": "code",
   "execution_count": null,
   "source": [
    "\r\n",
    "def run():\r\n",
    "    #load CSV file\r\n",
    "    data = prompting_user_state()\r\n",
    "    print (data)\r\n",
    "    data = investment_choice()\r\n",
    "if __name__==\"__main__\":\r\n",
    "    fire.Fire(run)\r\n"
   ],
   "outputs": [],
   "metadata": {}
  },
  {
   "cell_type": "code",
   "execution_count": null,
   "source": [
    "#add code that links questions to stocks/crypto"
   ],
   "outputs": [],
   "metadata": {}
  },
  {
   "cell_type": "markdown",
   "source": [
    "# Part 2\r\n",
    "Analysis of stocks and crypto currency "
   ],
   "metadata": {}
  },
  {
   "cell_type": "code",
   "execution_count": null,
   "source": [
    "# Load the environment variables from the .env file\r\n",
    "#by calling the load_dotenv function\r\n",
    "load_dotenv()"
   ],
   "outputs": [],
   "metadata": {}
  },
  {
   "cell_type": "markdown",
   "source": [
    "#### Cryptocurrency Analysis\r\n",
    "#### Review the endpoint URLs for the API calls to Free Crypto API in order to get the current pricing information for both BTC and ETH."
   ],
   "metadata": {}
  },
  {
   "cell_type": "code",
   "execution_count": null,
   "source": [
    "# amount that retiree can invest.  Answer from Questionaire.\r\n",
    "savings_amount = 1000"
   ],
   "outputs": [],
   "metadata": {}
  },
  {
   "cell_type": "code",
   "execution_count": null,
   "source": [
    "# The Free Crypto API Call endpoint URLs for the held cryptocurrency assets\r\n",
    "btc_url = \"https://api.alternative.me/v2/ticker/Bitcoin/?convert=USD\"\r\n",
    "eth_url = \"https://api.alternative.me/v2/ticker/Ethereum/?convert=USD\""
   ],
   "outputs": [],
   "metadata": {}
  },
  {
   "cell_type": "markdown",
   "source": [
    "#### Use the Requests library to get the current price (in US dollars) of Bitcoin (BTC) and Ethereum (ETH) by using the API endpoints that the starter code supplied.\r\n"
   ],
   "metadata": {}
  },
  {
   "cell_type": "code",
   "execution_count": null,
   "source": [],
   "outputs": [],
   "metadata": {}
  },
  {
   "cell_type": "code",
   "execution_count": null,
   "source": [],
   "outputs": [],
   "metadata": {}
  },
  {
   "cell_type": "code",
   "execution_count": null,
   "source": [],
   "outputs": [],
   "metadata": {}
  },
  {
   "cell_type": "code",
   "execution_count": null,
   "source": [],
   "outputs": [],
   "metadata": {}
  },
  {
   "cell_type": "code",
   "execution_count": null,
   "source": [],
   "outputs": [],
   "metadata": {}
  },
  {
   "cell_type": "code",
   "execution_count": null,
   "source": [],
   "outputs": [],
   "metadata": {}
  },
  {
   "cell_type": "code",
   "execution_count": null,
   "source": [],
   "outputs": [],
   "metadata": {}
  },
  {
   "cell_type": "code",
   "execution_count": null,
   "source": [],
   "outputs": [],
   "metadata": {}
  },
  {
   "cell_type": "code",
   "execution_count": null,
   "source": [],
   "outputs": [],
   "metadata": {}
  },
  {
   "cell_type": "code",
   "execution_count": null,
   "source": [],
   "outputs": [],
   "metadata": {}
  },
  {
   "cell_type": "code",
   "execution_count": null,
   "source": [],
   "outputs": [],
   "metadata": {}
  },
  {
   "cell_type": "code",
   "execution_count": null,
   "source": [],
   "outputs": [],
   "metadata": {}
  },
  {
   "cell_type": "code",
   "execution_count": null,
   "source": [],
   "outputs": [],
   "metadata": {}
  },
  {
   "cell_type": "code",
   "execution_count": null,
   "source": [],
   "outputs": [],
   "metadata": {}
  },
  {
   "cell_type": "code",
   "execution_count": null,
   "source": [],
   "outputs": [],
   "metadata": {}
  },
  {
   "cell_type": "code",
   "execution_count": null,
   "source": [],
   "outputs": [],
   "metadata": {}
  },
  {
   "cell_type": "code",
   "execution_count": null,
   "source": [],
   "outputs": [],
   "metadata": {}
  },
  {
   "cell_type": "code",
   "execution_count": null,
   "source": [],
   "outputs": [],
   "metadata": {}
  },
  {
   "cell_type": "code",
   "execution_count": null,
   "source": [],
   "outputs": [],
   "metadata": {}
  },
  {
   "cell_type": "code",
   "execution_count": null,
   "source": [],
   "outputs": [],
   "metadata": {}
  },
  {
   "cell_type": "code",
   "execution_count": null,
   "source": [],
   "outputs": [],
   "metadata": {}
  },
  {
   "cell_type": "code",
   "execution_count": null,
   "source": [],
   "outputs": [],
   "metadata": {}
  },
  {
   "cell_type": "code",
   "execution_count": null,
   "source": [],
   "outputs": [],
   "metadata": {}
  }
 ],
 "metadata": {
  "orig_nbformat": 4,
  "language_info": {
   "name": "python"
  }
 },
 "nbformat": 4,
 "nbformat_minor": 2
}