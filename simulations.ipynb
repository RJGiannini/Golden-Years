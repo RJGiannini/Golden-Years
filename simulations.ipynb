{
 "cells": [
  {
   "cell_type": "code",
   "execution_count": 1,
   "metadata": {},
   "outputs": [],
   "source": [
    "# Import the required libraries and dependencies\n",
    "import os\n",
    "import requests\n",
    "import json\n",
    "import pandas as pd\n",
    "from dotenv import load_dotenv\n",
    "import alpaca_trade_api as tradeapi\n",
    "from MCForecastTools import MCSimulation\n",
    "from pathlib import Path\n",
    "%matplotlib inline"
   ]
  },
  {
   "cell_type": "code",
   "execution_count": 2,
   "metadata": {},
   "outputs": [
    {
     "data": {
      "text/plain": [
       "True"
      ]
     },
     "execution_count": 2,
     "metadata": {},
     "output_type": "execute_result"
    }
   ],
   "source": [
    "# Load the environment variables from the .env file\n",
    "#by calling the load_dotenv function\n",
    "load_dotenv()"
   ]
  },
  {
   "cell_type": "code",
   "execution_count": 3,
   "metadata": {},
   "outputs": [],
   "source": [
    "# amount that retiree can invest.  Answer from Questionaire.\n",
    "savings_amount = 1000"
   ]
  },
  {
   "cell_type": "markdown",
   "metadata": {},
   "source": [
    "#### Cryptocurrency Analysis\n",
    "#### Review the endpoint URLs for the API calls to Free Crypto API in order to get the current pricing information for both BTC and ETH."
   ]
  },
  {
   "cell_type": "code",
   "execution_count": 4,
   "metadata": {},
   "outputs": [],
   "source": [
    "# The Free Crypto API Call endpoint URLs for the held cryptocurrency assets\n",
    "btc_url = \"https://api.alternative.me/v2/ticker/Bitcoin/?convert=USD\"\n",
    "eth_url = \"https://api.alternative.me/v2/ticker/Ethereum/?convert=USD\""
   ]
  },
  {
   "cell_type": "markdown",
   "metadata": {},
   "source": [
    "#### Use the Requests library to get the current price (in US dollars) of Bitcoin (BTC) and Ethereum (ETH) by using the API endpoints that the starter code supplied."
   ]
  },
  {
   "cell_type": "code",
   "execution_count": 5,
   "metadata": {},
   "outputs": [
    {
     "name": "stdout",
     "output_type": "stream",
     "text": [
      "{\n",
      "    \"data\": {\n",
      "        \"1\": {\n",
      "            \"circulating_supply\": 18782675,\n",
      "            \"id\": 1,\n",
      "            \"last_updated\": 1628663085,\n",
      "            \"max_supply\": 21000000,\n",
      "            \"name\": \"Bitcoin\",\n",
      "            \"quotes\": {\n",
      "                \"USD\": {\n",
      "                    \"market_cap\": 860875729125,\n",
      "                    \"percent_change_1h\": 0.57454114704848,\n",
      "                    \"percent_change_24h\": 0.792437678229911,\n",
      "                    \"percent_change_7d\": 19.4994917447015,\n",
      "                    \"percentage_change_1h\": 0.57454114704848,\n",
      "                    \"percentage_change_24h\": 0.792437678229911,\n",
      "                    \"percentage_change_7d\": 19.4994917447015,\n",
      "                    \"price\": 45850.0,\n",
      "                    \"volume_24h\": 34641889741\n",
      "                }\n",
      "            },\n",
      "            \"rank\": 1,\n",
      "            \"symbol\": \"BTC\",\n",
      "            \"total_supply\": 18782675,\n",
      "            \"website_slug\": \"bitcoin\"\n",
      "        }\n",
      "    },\n",
      "    \"metadata\": {\n",
      "        \"error\": null,\n",
      "        \"num_cryptocurrencies\": 3105,\n",
      "        \"timestamp\": 1628663085\n",
      "    }\n",
      "}\n"
     ]
    }
   ],
   "source": [
    "# Using the Python requests library, make an API call to access the current price of BTC\n",
    "btc_response = requests.get(btc_url).json()\n",
    "\n",
    "# Use the json.dumps function to review the response data from the API call\n",
    "# Use the indent and sort_keys parameters to make the response object readable\n",
    "print(json.dumps(btc_response, indent=4, sort_keys=True))\n"
   ]
  },
  {
   "cell_type": "code",
   "execution_count": 6,
   "metadata": {},
   "outputs": [
    {
     "name": "stdout",
     "output_type": "stream",
     "text": [
      "{\n",
      "    \"data\": {\n",
      "        \"1027\": {\n",
      "            \"circulating_supply\": 117057813,\n",
      "            \"id\": 1027,\n",
      "            \"last_updated\": 1628663089,\n",
      "            \"max_supply\": 0,\n",
      "            \"name\": \"Ethereum\",\n",
      "            \"quotes\": {\n",
      "                \"USD\": {\n",
      "                    \"market_cap\": 371922249606,\n",
      "                    \"percent_change_1h\": 0.586697969146392,\n",
      "                    \"percent_change_24h\": 2.07449519856915,\n",
      "                    \"percent_change_7d\": 26.0150613288504,\n",
      "                    \"percentage_change_1h\": 0.586697969146392,\n",
      "                    \"percentage_change_24h\": 2.07449519856915,\n",
      "                    \"percentage_change_7d\": 26.0150613288504,\n",
      "                    \"price\": 3177.18,\n",
      "                    \"volume_24h\": 30136204363\n",
      "                }\n",
      "            },\n",
      "            \"rank\": 2,\n",
      "            \"symbol\": \"ETH\",\n",
      "            \"total_supply\": 117057813,\n",
      "            \"website_slug\": \"ethereum\"\n",
      "        }\n",
      "    },\n",
      "    \"metadata\": {\n",
      "        \"error\": null,\n",
      "        \"num_cryptocurrencies\": 3105,\n",
      "        \"timestamp\": 1628663089\n",
      "    }\n",
      "}\n"
     ]
    }
   ],
   "source": [
    "# Using the Python requests library, make an API call to access the current price ETH\n",
    "eth_response = requests.get(eth_url).json()\n",
    "\n",
    "# Use the json.dumps function to review the response data from the API call\n",
    "# Use the indent and sort_keys parameters to make the response object readable\n",
    "print(json.dumps(eth_response, indent=4, sort_keys=True))\n"
   ]
  },
  {
   "cell_type": "markdown",
   "metadata": {},
   "source": [
    "#### Navigate the JSON response object to access the current price of each coin, and store each in a variable."
   ]
  },
  {
   "cell_type": "code",
   "execution_count": 7,
   "metadata": {},
   "outputs": [
    {
     "name": "stdout",
     "output_type": "stream",
     "text": [
      "The price for Bitcoin is $45,850.00\n"
     ]
    }
   ],
   "source": [
    "# Navigate the BTC response object to access the current price of BTC\n",
    "btc_price = btc_response['data']['1']['quotes']['USD']['price']\n",
    "\n",
    "# Print the current price of BTC\n",
    "print(f\"The price for Bitcoin is ${btc_price:,.2f}\")\n"
   ]
  },
  {
   "cell_type": "code",
   "execution_count": 8,
   "metadata": {},
   "outputs": [
    {
     "name": "stdout",
     "output_type": "stream",
     "text": [
      "The price for Ethereum is $3,177.18\n"
     ]
    }
   ],
   "source": [
    "# Navigate the BTC response object to access the current price of ETH\n",
    "eth_price = eth_response['data']['1027']['quotes']['USD']['price']\n",
    "\n",
    "# Print the current price of ETH\n",
    "print(f\"The price for Ethereum is ${eth_price:,.2f}\")\n"
   ]
  },
  {
   "cell_type": "markdown",
   "metadata": {},
   "source": [
    "#### Calculate the amount of coins the retiree can afford to purchase.  \n",
    "#### Take amount able to invest divide by 2, equals \"half the amount\".\n",
    "#### Take \"half the amount\" divide by BTC price equals the amount of BTC to purchase.\n",
    "#### Take \"half the amount\" divide by ETH price equals the amount of ETH to purchase."
   ]
  },
  {
   "cell_type": "code",
   "execution_count": 9,
   "metadata": {},
   "outputs": [],
   "source": [
    "half_savings = savings_amount / 2\n",
    "btc_coins = half_savings / btc_price\n",
    "eth_coins = half_savings / eth_price"
   ]
  },
  {
   "cell_type": "code",
   "execution_count": 10,
   "metadata": {},
   "outputs": [
    {
     "name": "stdout",
     "output_type": "stream",
     "text": [
      "You now are holding 0.010905125408942203 Bitcoin\n"
     ]
    }
   ],
   "source": [
    "# Print current holding in BTC\n",
    "print(f\"You now are holding {btc_coins} Bitcoin\")"
   ]
  },
  {
   "cell_type": "code",
   "execution_count": 11,
   "metadata": {},
   "outputs": [
    {
     "name": "stdout",
     "output_type": "stream",
     "text": [
      "The now are holding 0.15737226093579842 Ethereum\n"
     ]
    }
   ],
   "source": [
    "# Print current holding in ETH\n",
    "print(f\"The now are holding {eth_coins} Ethereum\")"
   ]
  },
  {
   "cell_type": "markdown",
   "metadata": {},
   "source": [
    "#### BOOKMARK - will need to build dataframe with BTC and ETH data here.  Then run MC for forecasting.  Plan is to structure like the code below."
   ]
  },
  {
   "cell_type": "code",
   "execution_count": 12,
   "metadata": {},
   "outputs": [],
   "source": [
    "# Read in the CSV file called \"Bitcoin Historical Data.csv\" using the Path module. \n",
    "# The CSV file is located in the Resources folder.\n",
    "# Set the index to the column \"Date\"\n",
    "# Set the parse_dates and infer_datetime_format parameters\n",
    "btc_df = pd.read_csv(\n",
    "    Path('./Resources/Bitcoin Historical Data.csv'), \n",
    "    index_col=\"Date\", parse_dates=True, infer_datetime_format=True)"
   ]
  },
  {
   "cell_type": "code",
   "execution_count": 13,
   "metadata": {},
   "outputs": [],
   "source": [
    "btc_df.loc[:,\"Price\"]=btc_df.loc[:,\"Price\"].str.replace(\",\",\"\")\n",
    "btc_df.loc[:,\"Price\"]=btc_df.loc[:,\"Price\"].astype(\"float\")\n",
    "\n",
    "btc_df.loc[:,\"Open\"]=btc_df.loc[:,\"Open\"].str.replace(\",\",\"\")\n",
    "btc_df.loc[:,\"Open\"]=btc_df.loc[:,\"Open\"].astype(\"float\")\n",
    "\n",
    "btc_df.loc[:,\"High\"]=btc_df.loc[:,\"High\"].str.replace(\",\",\"\")\n",
    "btc_df.loc[:,\"High\"]=btc_df.loc[:,\"High\"].astype(\"float\")\n",
    "\n",
    "btc_df.loc[:,\"Low\"]=btc_df.loc[:,\"Low\"].str.replace(\",\",\"\")\n",
    "btc_df.loc[:,\"Low\"]=btc_df.loc[:,\"Low\"].astype(\"float\")\n",
    "\n",
    "btc_df = btc_df.drop(columns=[\"Change %\"])"
   ]
  },
  {
   "cell_type": "code",
   "execution_count": 14,
   "metadata": {},
   "outputs": [],
   "source": [
    "# This function converts the string values into a floating point number\n",
    "def clean_currency(price_string):\n",
    "    price = price_string\n",
    "    if type(price_string) == str:\n",
    "        price_string = price_string.replace('$', '')\n",
    "        if price_string[-1] == 'K':\n",
    "            thousand = 1000\n",
    "            price_string = price_string.replace('K', '')\n",
    "            price = float(price_string)\n",
    "            price = price * thousand\n",
    "        elif price_string[-1] == 'M':\n",
    "            million = 1000000\n",
    "            price_string = price_string.replace('M', '')\n",
    "            price = float(price_string)\n",
    "            price = price * million\n",
    "        else:\n",
    "            billion = 1000000000\n",
    "            price_string = price_string.replace('B', '')\n",
    "            price = float(price_string)\n",
    "            price = price * billion\n",
    "    return price"
   ]
  },
  {
   "cell_type": "code",
   "execution_count": 15,
   "metadata": {},
   "outputs": [],
   "source": [
    "btc_df['Vol.'] = btc_df['Vol.'].apply(clean_currency)"
   ]
  },
  {
   "cell_type": "code",
   "execution_count": 23,
   "metadata": {},
   "outputs": [
    {
     "data": {
      "text/plain": [
       "['Price', 'Open', 'High', 'Low', 'Vol.']"
      ]
     },
     "execution_count": 23,
     "metadata": {},
     "output_type": "execute_result"
    }
   ],
   "source": [
    "list(btc_df.columns)"
   ]
  },
  {
   "cell_type": "code",
   "execution_count": 31,
   "metadata": {},
   "outputs": [
    {
     "data": {
      "text/plain": [
       "Index(['open', 'high', ' low', 'close', 'volume'], dtype='object')"
      ]
     },
     "execution_count": 31,
     "metadata": {},
     "output_type": "execute_result"
    }
   ],
   "source": [
    "btc_df2 = btc_df[['Open', 'High', 'Low', 'Price', 'Vol.']]\n",
    "columns = [\"open\", \"high\",\" low\", \"close\", \"volume\"]\n",
    "btc_df2.columns = columns\n",
    "btc_df2.keys()\n"
   ]
  },
  {
   "cell_type": "code",
   "execution_count": 18,
   "metadata": {},
   "outputs": [],
   "source": [
    "# Read in the CSV file called \"Bitcoin Historical Data.csv\" using the Path module. \n",
    "# The CSV file is located in the Resources folder.\n",
    "# Set the index to the column \"Date\"\n",
    "# Set the parse_dates and infer_datetime_format parameters\n",
    "eth_df = pd.read_csv(\n",
    "    Path('./Resources/Ethereum Historical Data.csv'), \n",
    "    index_col=\"Date\", parse_dates=True, infer_datetime_format=True)"
   ]
  },
  {
   "cell_type": "code",
   "execution_count": 19,
   "metadata": {},
   "outputs": [],
   "source": [
    "eth_df.loc[:,\"Price\"]=eth_df.loc[:,\"Price\"].str.replace(\",\",\"\")\n",
    "eth_df.loc[:,\"Price\"]=eth_df.loc[:,\"Price\"].astype(\"float\")\n",
    "\n",
    "eth_df.loc[:,\"Open\"]=eth_df.loc[:,\"Open\"].str.replace(\",\",\"\")\n",
    "eth_df.loc[:,\"Open\"]=eth_df.loc[:,\"Open\"].astype(\"float\")\n",
    "\n",
    "eth_df.loc[:,\"High\"]=eth_df.loc[:,\"High\"].str.replace(\",\",\"\")\n",
    "eth_df.loc[:,\"High\"]=eth_df.loc[:,\"High\"].astype(\"float\")\n",
    "\n",
    "eth_df.loc[:,\"Low\"]=eth_df.loc[:,\"Low\"].str.replace(\",\",\"\")\n",
    "eth_df.loc[:,\"Low\"]=eth_df.loc[:,\"Low\"].astype(\"float\")\n",
    "\n",
    "eth_df = eth_df.drop(columns=[\"Change %\"])\n",
    "\n",
    "eth_df['Vol.'] = eth_df['Vol.'].apply(clean_currency)"
   ]
  },
  {
   "cell_type": "code",
   "execution_count": 27,
   "metadata": {},
   "outputs": [
    {
     "data": {
      "text/html": [
       "<div>\n",
       "<style scoped>\n",
       "    .dataframe tbody tr th:only-of-type {\n",
       "        vertical-align: middle;\n",
       "    }\n",
       "\n",
       "    .dataframe tbody tr th {\n",
       "        vertical-align: top;\n",
       "    }\n",
       "\n",
       "    .dataframe thead th {\n",
       "        text-align: right;\n",
       "    }\n",
       "</style>\n",
       "<table border=\"1\" class=\"dataframe\">\n",
       "  <thead>\n",
       "    <tr style=\"text-align: right;\">\n",
       "      <th></th>\n",
       "      <th>open</th>\n",
       "      <th>high</th>\n",
       "      <th>low</th>\n",
       "      <th>close</th>\n",
       "      <th>volume</th>\n",
       "    </tr>\n",
       "    <tr>\n",
       "      <th>Date</th>\n",
       "      <th></th>\n",
       "      <th></th>\n",
       "      <th></th>\n",
       "      <th></th>\n",
       "      <th></th>\n",
       "    </tr>\n",
       "  </thead>\n",
       "  <tbody>\n",
       "    <tr>\n",
       "      <th>2021-07-30</th>\n",
       "      <td>2380.59</td>\n",
       "      <td>2467.40</td>\n",
       "      <td>2320.80</td>\n",
       "      <td>2460.95</td>\n",
       "      <td>1030000.0</td>\n",
       "    </tr>\n",
       "    <tr>\n",
       "      <th>2021-07-29</th>\n",
       "      <td>2299.46</td>\n",
       "      <td>2397.71</td>\n",
       "      <td>2269.15</td>\n",
       "      <td>2380.93</td>\n",
       "      <td>642750.0</td>\n",
       "    </tr>\n",
       "    <tr>\n",
       "      <th>2021-07-28</th>\n",
       "      <td>2300.21</td>\n",
       "      <td>2343.49</td>\n",
       "      <td>2246.23</td>\n",
       "      <td>2299.11</td>\n",
       "      <td>968940.0</td>\n",
       "    </tr>\n",
       "    <tr>\n",
       "      <th>2021-07-27</th>\n",
       "      <td>2230.24</td>\n",
       "      <td>2318.68</td>\n",
       "      <td>2152.92</td>\n",
       "      <td>2300.22</td>\n",
       "      <td>1250000.0</td>\n",
       "    </tr>\n",
       "    <tr>\n",
       "      <th>2021-07-26</th>\n",
       "      <td>2189.74</td>\n",
       "      <td>2430.01</td>\n",
       "      <td>2174.44</td>\n",
       "      <td>2229.53</td>\n",
       "      <td>1890000.0</td>\n",
       "    </tr>\n",
       "  </tbody>\n",
       "</table>\n",
       "</div>"
      ],
      "text/plain": [
       "               open     high      low    close     volume\n",
       "Date                                                     \n",
       "2021-07-30  2380.59  2467.40  2320.80  2460.95  1030000.0\n",
       "2021-07-29  2299.46  2397.71  2269.15  2380.93   642750.0\n",
       "2021-07-28  2300.21  2343.49  2246.23  2299.11   968940.0\n",
       "2021-07-27  2230.24  2318.68  2152.92  2300.22  1250000.0\n",
       "2021-07-26  2189.74  2430.01  2174.44  2229.53  1890000.0"
      ]
     },
     "execution_count": 27,
     "metadata": {},
     "output_type": "execute_result"
    }
   ],
   "source": [
    "eth_df2 = eth_df[['Open', 'High', 'Low', 'Price', 'Vol.']]\n",
    "columns = [\"open\", \"high\",\" low\", \"close\", \"volume\"]\n",
    "eth_df2.columns = columns\n",
    "eth_df2.head()"
   ]
  },
  {
   "cell_type": "code",
   "execution_count": 32,
   "metadata": {},
   "outputs": [],
   "source": [
    "# Create a dictionary of the two dataframes\n",
    "to_merge_dict = {'BTC': btc_df2 , 'ETH': eth_df2}"
   ]
  },
  {
   "cell_type": "code",
   "execution_count": 33,
   "metadata": {},
   "outputs": [],
   "source": [
    "# Use concat to create a merged dataframe from the dictionary\n",
    "merged_df = pd.concat(to_merge_dict.values(), axis=1, keys=to_merge_dict.keys())"
   ]
  },
  {
   "cell_type": "code",
   "execution_count": 34,
   "metadata": {},
   "outputs": [
    {
     "data": {
      "text/html": [
       "<div>\n",
       "<style scoped>\n",
       "    .dataframe tbody tr th:only-of-type {\n",
       "        vertical-align: middle;\n",
       "    }\n",
       "\n",
       "    .dataframe tbody tr th {\n",
       "        vertical-align: top;\n",
       "    }\n",
       "\n",
       "    .dataframe thead tr th {\n",
       "        text-align: left;\n",
       "    }\n",
       "\n",
       "    .dataframe thead tr:last-of-type th {\n",
       "        text-align: right;\n",
       "    }\n",
       "</style>\n",
       "<table border=\"1\" class=\"dataframe\">\n",
       "  <thead>\n",
       "    <tr>\n",
       "      <th></th>\n",
       "      <th colspan=\"5\" halign=\"left\">BTC</th>\n",
       "      <th colspan=\"5\" halign=\"left\">ETH</th>\n",
       "    </tr>\n",
       "    <tr>\n",
       "      <th></th>\n",
       "      <th>open</th>\n",
       "      <th>high</th>\n",
       "      <th>low</th>\n",
       "      <th>close</th>\n",
       "      <th>volume</th>\n",
       "      <th>open</th>\n",
       "      <th>high</th>\n",
       "      <th>low</th>\n",
       "      <th>close</th>\n",
       "      <th>volume</th>\n",
       "    </tr>\n",
       "    <tr>\n",
       "      <th>Date</th>\n",
       "      <th></th>\n",
       "      <th></th>\n",
       "      <th></th>\n",
       "      <th></th>\n",
       "      <th></th>\n",
       "      <th></th>\n",
       "      <th></th>\n",
       "      <th></th>\n",
       "      <th></th>\n",
       "      <th></th>\n",
       "    </tr>\n",
       "  </thead>\n",
       "  <tbody>\n",
       "    <tr>\n",
       "      <th>2021-07-30</th>\n",
       "      <td>40001.1</td>\n",
       "      <td>42264.4</td>\n",
       "      <td>38358.4</td>\n",
       "      <td>42203.4</td>\n",
       "      <td>98450.0</td>\n",
       "      <td>2380.59</td>\n",
       "      <td>2467.40</td>\n",
       "      <td>2320.80</td>\n",
       "      <td>2460.95</td>\n",
       "      <td>1030000.0</td>\n",
       "    </tr>\n",
       "    <tr>\n",
       "      <th>2021-07-29</th>\n",
       "      <td>40009.0</td>\n",
       "      <td>40630.7</td>\n",
       "      <td>39340.8</td>\n",
       "      <td>40001.4</td>\n",
       "      <td>75300.0</td>\n",
       "      <td>2299.46</td>\n",
       "      <td>2397.71</td>\n",
       "      <td>2269.15</td>\n",
       "      <td>2380.93</td>\n",
       "      <td>642750.0</td>\n",
       "    </tr>\n",
       "    <tr>\n",
       "      <th>2021-07-28</th>\n",
       "      <td>39450.4</td>\n",
       "      <td>40862.2</td>\n",
       "      <td>38883.8</td>\n",
       "      <td>40003.2</td>\n",
       "      <td>148920.0</td>\n",
       "      <td>2300.21</td>\n",
       "      <td>2343.49</td>\n",
       "      <td>2246.23</td>\n",
       "      <td>2299.11</td>\n",
       "      <td>968940.0</td>\n",
       "    </tr>\n",
       "    <tr>\n",
       "      <th>2021-07-27</th>\n",
       "      <td>37294.3</td>\n",
       "      <td>39455.9</td>\n",
       "      <td>36427.4</td>\n",
       "      <td>39452.0</td>\n",
       "      <td>100240.0</td>\n",
       "      <td>2230.24</td>\n",
       "      <td>2318.68</td>\n",
       "      <td>2152.92</td>\n",
       "      <td>2300.22</td>\n",
       "      <td>1250000.0</td>\n",
       "    </tr>\n",
       "    <tr>\n",
       "      <th>2021-07-26</th>\n",
       "      <td>35392.3</td>\n",
       "      <td>40522.9</td>\n",
       "      <td>35236.7</td>\n",
       "      <td>37276.6</td>\n",
       "      <td>177630.0</td>\n",
       "      <td>2189.74</td>\n",
       "      <td>2430.01</td>\n",
       "      <td>2174.44</td>\n",
       "      <td>2229.53</td>\n",
       "      <td>1890000.0</td>\n",
       "    </tr>\n",
       "  </tbody>\n",
       "</table>\n",
       "</div>"
      ],
      "text/plain": [
       "                BTC                                           ETH           \\\n",
       "               open     high      low    close    volume     open     high   \n",
       "Date                                                                         \n",
       "2021-07-30  40001.1  42264.4  38358.4  42203.4   98450.0  2380.59  2467.40   \n",
       "2021-07-29  40009.0  40630.7  39340.8  40001.4   75300.0  2299.46  2397.71   \n",
       "2021-07-28  39450.4  40862.2  38883.8  40003.2  148920.0  2300.21  2343.49   \n",
       "2021-07-27  37294.3  39455.9  36427.4  39452.0  100240.0  2230.24  2318.68   \n",
       "2021-07-26  35392.3  40522.9  35236.7  37276.6  177630.0  2189.74  2430.01   \n",
       "\n",
       "                                         \n",
       "                low    close     volume  \n",
       "Date                                     \n",
       "2021-07-30  2320.80  2460.95  1030000.0  \n",
       "2021-07-29  2269.15  2380.93   642750.0  \n",
       "2021-07-28  2246.23  2299.11   968940.0  \n",
       "2021-07-27  2152.92  2300.22  1250000.0  \n",
       "2021-07-26  2174.44  2229.53  1890000.0  "
      ]
     },
     "execution_count": 34,
     "metadata": {},
     "output_type": "execute_result"
    }
   ],
   "source": [
    "merged_df.head()"
   ]
  },
  {
   "cell_type": "code",
   "execution_count": 35,
   "metadata": {},
   "outputs": [
    {
     "data": {
      "text/html": [
       "<div>\n",
       "<style scoped>\n",
       "    .dataframe tbody tr th:only-of-type {\n",
       "        vertical-align: middle;\n",
       "    }\n",
       "\n",
       "    .dataframe tbody tr th {\n",
       "        vertical-align: top;\n",
       "    }\n",
       "\n",
       "    .dataframe thead tr th {\n",
       "        text-align: left;\n",
       "    }\n",
       "\n",
       "    .dataframe thead tr:last-of-type th {\n",
       "        text-align: right;\n",
       "    }\n",
       "</style>\n",
       "<table border=\"1\" class=\"dataframe\">\n",
       "  <thead>\n",
       "    <tr>\n",
       "      <th></th>\n",
       "      <th colspan=\"6\" halign=\"left\">BTC</th>\n",
       "      <th colspan=\"6\" halign=\"left\">ETH</th>\n",
       "    </tr>\n",
       "    <tr>\n",
       "      <th></th>\n",
       "      <th>open</th>\n",
       "      <th>high</th>\n",
       "      <th>low</th>\n",
       "      <th>close</th>\n",
       "      <th>volume</th>\n",
       "      <th>daily_return</th>\n",
       "      <th>open</th>\n",
       "      <th>high</th>\n",
       "      <th>low</th>\n",
       "      <th>close</th>\n",
       "      <th>volume</th>\n",
       "      <th>daily_return</th>\n",
       "    </tr>\n",
       "    <tr>\n",
       "      <th>Date</th>\n",
       "      <th></th>\n",
       "      <th></th>\n",
       "      <th></th>\n",
       "      <th></th>\n",
       "      <th></th>\n",
       "      <th></th>\n",
       "      <th></th>\n",
       "      <th></th>\n",
       "      <th></th>\n",
       "      <th></th>\n",
       "      <th></th>\n",
       "      <th></th>\n",
       "    </tr>\n",
       "  </thead>\n",
       "  <tbody>\n",
       "    <tr>\n",
       "      <th>2021-07-30</th>\n",
       "      <td>40001.1</td>\n",
       "      <td>42264.4</td>\n",
       "      <td>38358.4</td>\n",
       "      <td>42203.4</td>\n",
       "      <td>98450.0</td>\n",
       "      <td>NaN</td>\n",
       "      <td>2380.59</td>\n",
       "      <td>2467.40</td>\n",
       "      <td>2320.80</td>\n",
       "      <td>2460.95</td>\n",
       "      <td>1030000.0</td>\n",
       "      <td>NaN</td>\n",
       "    </tr>\n",
       "    <tr>\n",
       "      <th>2021-07-29</th>\n",
       "      <td>40009.0</td>\n",
       "      <td>40630.7</td>\n",
       "      <td>39340.8</td>\n",
       "      <td>40001.4</td>\n",
       "      <td>75300.0</td>\n",
       "      <td>-0.052176</td>\n",
       "      <td>2299.46</td>\n",
       "      <td>2397.71</td>\n",
       "      <td>2269.15</td>\n",
       "      <td>2380.93</td>\n",
       "      <td>642750.0</td>\n",
       "      <td>-0.032516</td>\n",
       "    </tr>\n",
       "    <tr>\n",
       "      <th>2021-07-28</th>\n",
       "      <td>39450.4</td>\n",
       "      <td>40862.2</td>\n",
       "      <td>38883.8</td>\n",
       "      <td>40003.2</td>\n",
       "      <td>148920.0</td>\n",
       "      <td>0.000045</td>\n",
       "      <td>2300.21</td>\n",
       "      <td>2343.49</td>\n",
       "      <td>2246.23</td>\n",
       "      <td>2299.11</td>\n",
       "      <td>968940.0</td>\n",
       "      <td>-0.034365</td>\n",
       "    </tr>\n",
       "    <tr>\n",
       "      <th>2021-07-27</th>\n",
       "      <td>37294.3</td>\n",
       "      <td>39455.9</td>\n",
       "      <td>36427.4</td>\n",
       "      <td>39452.0</td>\n",
       "      <td>100240.0</td>\n",
       "      <td>-0.013779</td>\n",
       "      <td>2230.24</td>\n",
       "      <td>2318.68</td>\n",
       "      <td>2152.92</td>\n",
       "      <td>2300.22</td>\n",
       "      <td>1250000.0</td>\n",
       "      <td>0.000483</td>\n",
       "    </tr>\n",
       "    <tr>\n",
       "      <th>2021-07-26</th>\n",
       "      <td>35392.3</td>\n",
       "      <td>40522.9</td>\n",
       "      <td>35236.7</td>\n",
       "      <td>37276.6</td>\n",
       "      <td>177630.0</td>\n",
       "      <td>-0.055140</td>\n",
       "      <td>2189.74</td>\n",
       "      <td>2430.01</td>\n",
       "      <td>2174.44</td>\n",
       "      <td>2229.53</td>\n",
       "      <td>1890000.0</td>\n",
       "      <td>-0.030732</td>\n",
       "    </tr>\n",
       "  </tbody>\n",
       "</table>\n",
       "</div>"
      ],
      "text/plain": [
       "                BTC                                                    \\\n",
       "               open     high      low    close    volume daily_return   \n",
       "Date                                                                    \n",
       "2021-07-30  40001.1  42264.4  38358.4  42203.4   98450.0          NaN   \n",
       "2021-07-29  40009.0  40630.7  39340.8  40001.4   75300.0    -0.052176   \n",
       "2021-07-28  39450.4  40862.2  38883.8  40003.2  148920.0     0.000045   \n",
       "2021-07-27  37294.3  39455.9  36427.4  39452.0  100240.0    -0.013779   \n",
       "2021-07-26  35392.3  40522.9  35236.7  37276.6  177630.0    -0.055140   \n",
       "\n",
       "                ETH                                                     \n",
       "               open     high      low    close     volume daily_return  \n",
       "Date                                                                    \n",
       "2021-07-30  2380.59  2467.40  2320.80  2460.95  1030000.0          NaN  \n",
       "2021-07-29  2299.46  2397.71  2269.15  2380.93   642750.0    -0.032516  \n",
       "2021-07-28  2300.21  2343.49  2246.23  2299.11   968940.0    -0.034365  \n",
       "2021-07-27  2230.24  2318.68  2152.92  2300.22  1250000.0     0.000483  \n",
       "2021-07-26  2189.74  2430.01  2174.44  2229.53  1890000.0    -0.030732  "
      ]
     },
     "execution_count": 35,
     "metadata": {},
     "output_type": "execute_result"
    }
   ],
   "source": [
    "# Configure the Monte Carlo simulation to forecast 30 years cumulative returns\n",
    "# Run 500 samples.\n",
    "MC_cryptothirtyyear = MCSimulation(\n",
    "  portfolio_data = merged_df,\n",
    "  weights = [.5, .5],\n",
    "  num_simulation = 500,\n",
    "  num_trading_days = 252*30\n",
    ")\n",
    "\n",
    "# Review the simulation input data\n",
    "MC_cryptothirtyyear.portfolio_data.head()\n"
   ]
  },
  {
   "cell_type": "code",
   "execution_count": 36,
   "metadata": {},
   "outputs": [
    {
     "name": "stdout",
     "output_type": "stream",
     "text": [
      "Running Monte Carlo simulation number 0.\n",
      "Running Monte Carlo simulation number 10.\n",
      "Running Monte Carlo simulation number 20.\n",
      "Running Monte Carlo simulation number 30.\n",
      "Running Monte Carlo simulation number 40.\n",
      "Running Monte Carlo simulation number 50.\n",
      "Running Monte Carlo simulation number 60.\n",
      "Running Monte Carlo simulation number 70.\n",
      "Running Monte Carlo simulation number 80.\n",
      "Running Monte Carlo simulation number 90.\n",
      "Running Monte Carlo simulation number 100.\n",
      "Running Monte Carlo simulation number 110.\n",
      "Running Monte Carlo simulation number 120.\n",
      "Running Monte Carlo simulation number 130.\n",
      "Running Monte Carlo simulation number 140.\n",
      "Running Monte Carlo simulation number 150.\n",
      "Running Monte Carlo simulation number 160.\n",
      "Running Monte Carlo simulation number 170.\n",
      "Running Monte Carlo simulation number 180.\n",
      "Running Monte Carlo simulation number 190.\n",
      "Running Monte Carlo simulation number 200.\n",
      "Running Monte Carlo simulation number 210.\n",
      "Running Monte Carlo simulation number 220.\n",
      "Running Monte Carlo simulation number 230.\n",
      "Running Monte Carlo simulation number 240.\n",
      "Running Monte Carlo simulation number 250.\n",
      "Running Monte Carlo simulation number 260.\n",
      "Running Monte Carlo simulation number 270.\n",
      "Running Monte Carlo simulation number 280.\n",
      "Running Monte Carlo simulation number 290.\n",
      "Running Monte Carlo simulation number 300.\n",
      "Running Monte Carlo simulation number 310.\n",
      "Running Monte Carlo simulation number 320.\n",
      "Running Monte Carlo simulation number 330.\n",
      "Running Monte Carlo simulation number 340.\n",
      "Running Monte Carlo simulation number 350.\n",
      "Running Monte Carlo simulation number 360.\n",
      "Running Monte Carlo simulation number 370.\n",
      "Running Monte Carlo simulation number 380.\n",
      "Running Monte Carlo simulation number 390.\n",
      "Running Monte Carlo simulation number 400.\n",
      "Running Monte Carlo simulation number 410.\n",
      "Running Monte Carlo simulation number 420.\n",
      "Running Monte Carlo simulation number 430.\n",
      "Running Monte Carlo simulation number 440.\n",
      "Running Monte Carlo simulation number 450.\n",
      "Running Monte Carlo simulation number 460.\n",
      "Running Monte Carlo simulation number 470.\n",
      "Running Monte Carlo simulation number 480.\n",
      "Running Monte Carlo simulation number 490.\n"
     ]
    },
    {
     "data": {
      "text/html": [
       "<div>\n",
       "<style scoped>\n",
       "    .dataframe tbody tr th:only-of-type {\n",
       "        vertical-align: middle;\n",
       "    }\n",
       "\n",
       "    .dataframe tbody tr th {\n",
       "        vertical-align: top;\n",
       "    }\n",
       "\n",
       "    .dataframe thead th {\n",
       "        text-align: right;\n",
       "    }\n",
       "</style>\n",
       "<table border=\"1\" class=\"dataframe\">\n",
       "  <thead>\n",
       "    <tr style=\"text-align: right;\">\n",
       "      <th></th>\n",
       "      <th>0</th>\n",
       "      <th>1</th>\n",
       "      <th>2</th>\n",
       "      <th>3</th>\n",
       "      <th>4</th>\n",
       "      <th>5</th>\n",
       "      <th>6</th>\n",
       "      <th>7</th>\n",
       "      <th>8</th>\n",
       "      <th>9</th>\n",
       "      <th>...</th>\n",
       "      <th>490</th>\n",
       "      <th>491</th>\n",
       "      <th>492</th>\n",
       "      <th>493</th>\n",
       "      <th>494</th>\n",
       "      <th>495</th>\n",
       "      <th>496</th>\n",
       "      <th>497</th>\n",
       "      <th>498</th>\n",
       "      <th>499</th>\n",
       "    </tr>\n",
       "  </thead>\n",
       "  <tbody>\n",
       "    <tr>\n",
       "      <th>0</th>\n",
       "      <td>1.000000</td>\n",
       "      <td>1.000000</td>\n",
       "      <td>1.000000</td>\n",
       "      <td>1.000000</td>\n",
       "      <td>1.000000</td>\n",
       "      <td>1.000000</td>\n",
       "      <td>1.000000</td>\n",
       "      <td>1.000000</td>\n",
       "      <td>1.000000</td>\n",
       "      <td>1.000000</td>\n",
       "      <td>...</td>\n",
       "      <td>1.000000</td>\n",
       "      <td>1.000000</td>\n",
       "      <td>1.000000</td>\n",
       "      <td>1.000000</td>\n",
       "      <td>1.000000</td>\n",
       "      <td>1.000000</td>\n",
       "      <td>1.000000e+00</td>\n",
       "      <td>1.000000</td>\n",
       "      <td>1.000000</td>\n",
       "      <td>1.000000</td>\n",
       "    </tr>\n",
       "    <tr>\n",
       "      <th>1</th>\n",
       "      <td>1.027989</td>\n",
       "      <td>1.074892</td>\n",
       "      <td>0.989516</td>\n",
       "      <td>1.009296</td>\n",
       "      <td>0.952883</td>\n",
       "      <td>1.044366</td>\n",
       "      <td>0.953179</td>\n",
       "      <td>0.959746</td>\n",
       "      <td>1.038082</td>\n",
       "      <td>0.977254</td>\n",
       "      <td>...</td>\n",
       "      <td>0.999597</td>\n",
       "      <td>1.032231</td>\n",
       "      <td>1.017008</td>\n",
       "      <td>0.974992</td>\n",
       "      <td>0.990346</td>\n",
       "      <td>0.975688</td>\n",
       "      <td>9.946866e-01</td>\n",
       "      <td>1.031171</td>\n",
       "      <td>1.020033</td>\n",
       "      <td>0.922421</td>\n",
       "    </tr>\n",
       "    <tr>\n",
       "      <th>2</th>\n",
       "      <td>1.043654</td>\n",
       "      <td>1.069713</td>\n",
       "      <td>0.992571</td>\n",
       "      <td>1.040562</td>\n",
       "      <td>0.983310</td>\n",
       "      <td>1.012048</td>\n",
       "      <td>0.902085</td>\n",
       "      <td>0.993642</td>\n",
       "      <td>1.054464</td>\n",
       "      <td>0.991412</td>\n",
       "      <td>...</td>\n",
       "      <td>1.005441</td>\n",
       "      <td>1.108171</td>\n",
       "      <td>1.092013</td>\n",
       "      <td>0.984176</td>\n",
       "      <td>0.978640</td>\n",
       "      <td>0.952785</td>\n",
       "      <td>1.060326e+00</td>\n",
       "      <td>1.010930</td>\n",
       "      <td>0.980743</td>\n",
       "      <td>0.856294</td>\n",
       "    </tr>\n",
       "    <tr>\n",
       "      <th>3</th>\n",
       "      <td>1.022124</td>\n",
       "      <td>1.069618</td>\n",
       "      <td>0.994302</td>\n",
       "      <td>1.108903</td>\n",
       "      <td>0.982625</td>\n",
       "      <td>1.013753</td>\n",
       "      <td>0.890520</td>\n",
       "      <td>0.962926</td>\n",
       "      <td>1.037306</td>\n",
       "      <td>0.937947</td>\n",
       "      <td>...</td>\n",
       "      <td>1.053194</td>\n",
       "      <td>1.172860</td>\n",
       "      <td>1.063646</td>\n",
       "      <td>0.948618</td>\n",
       "      <td>0.966776</td>\n",
       "      <td>0.986504</td>\n",
       "      <td>1.030115e+00</td>\n",
       "      <td>0.991121</td>\n",
       "      <td>0.967684</td>\n",
       "      <td>0.840170</td>\n",
       "    </tr>\n",
       "    <tr>\n",
       "      <th>4</th>\n",
       "      <td>1.032773</td>\n",
       "      <td>1.092548</td>\n",
       "      <td>1.035866</td>\n",
       "      <td>1.154271</td>\n",
       "      <td>0.982251</td>\n",
       "      <td>1.029938</td>\n",
       "      <td>0.851803</td>\n",
       "      <td>0.975712</td>\n",
       "      <td>1.025521</td>\n",
       "      <td>0.895520</td>\n",
       "      <td>...</td>\n",
       "      <td>1.041532</td>\n",
       "      <td>1.145058</td>\n",
       "      <td>1.080920</td>\n",
       "      <td>0.912423</td>\n",
       "      <td>0.925570</td>\n",
       "      <td>1.025728</td>\n",
       "      <td>1.018052e+00</td>\n",
       "      <td>1.005931</td>\n",
       "      <td>0.949355</td>\n",
       "      <td>0.800594</td>\n",
       "    </tr>\n",
       "    <tr>\n",
       "      <th>...</th>\n",
       "      <td>...</td>\n",
       "      <td>...</td>\n",
       "      <td>...</td>\n",
       "      <td>...</td>\n",
       "      <td>...</td>\n",
       "      <td>...</td>\n",
       "      <td>...</td>\n",
       "      <td>...</td>\n",
       "      <td>...</td>\n",
       "      <td>...</td>\n",
       "      <td>...</td>\n",
       "      <td>...</td>\n",
       "      <td>...</td>\n",
       "      <td>...</td>\n",
       "      <td>...</td>\n",
       "      <td>...</td>\n",
       "      <td>...</td>\n",
       "      <td>...</td>\n",
       "      <td>...</td>\n",
       "      <td>...</td>\n",
       "      <td>...</td>\n",
       "    </tr>\n",
       "    <tr>\n",
       "      <th>7556</th>\n",
       "      <td>0.000017</td>\n",
       "      <td>0.000175</td>\n",
       "      <td>0.001370</td>\n",
       "      <td>0.001989</td>\n",
       "      <td>0.000041</td>\n",
       "      <td>0.000827</td>\n",
       "      <td>0.013729</td>\n",
       "      <td>0.000422</td>\n",
       "      <td>0.033542</td>\n",
       "      <td>0.000209</td>\n",
       "      <td>...</td>\n",
       "      <td>0.000030</td>\n",
       "      <td>0.003982</td>\n",
       "      <td>0.000021</td>\n",
       "      <td>0.003999</td>\n",
       "      <td>0.002214</td>\n",
       "      <td>0.000359</td>\n",
       "      <td>7.731854e-07</td>\n",
       "      <td>0.000099</td>\n",
       "      <td>0.002570</td>\n",
       "      <td>0.000076</td>\n",
       "    </tr>\n",
       "    <tr>\n",
       "      <th>7557</th>\n",
       "      <td>0.000017</td>\n",
       "      <td>0.000173</td>\n",
       "      <td>0.001419</td>\n",
       "      <td>0.002042</td>\n",
       "      <td>0.000043</td>\n",
       "      <td>0.000800</td>\n",
       "      <td>0.014185</td>\n",
       "      <td>0.000429</td>\n",
       "      <td>0.032557</td>\n",
       "      <td>0.000207</td>\n",
       "      <td>...</td>\n",
       "      <td>0.000030</td>\n",
       "      <td>0.004056</td>\n",
       "      <td>0.000021</td>\n",
       "      <td>0.003924</td>\n",
       "      <td>0.002267</td>\n",
       "      <td>0.000346</td>\n",
       "      <td>7.812332e-07</td>\n",
       "      <td>0.000099</td>\n",
       "      <td>0.002491</td>\n",
       "      <td>0.000074</td>\n",
       "    </tr>\n",
       "    <tr>\n",
       "      <th>7558</th>\n",
       "      <td>0.000017</td>\n",
       "      <td>0.000176</td>\n",
       "      <td>0.001468</td>\n",
       "      <td>0.002018</td>\n",
       "      <td>0.000042</td>\n",
       "      <td>0.000799</td>\n",
       "      <td>0.013965</td>\n",
       "      <td>0.000445</td>\n",
       "      <td>0.033971</td>\n",
       "      <td>0.000200</td>\n",
       "      <td>...</td>\n",
       "      <td>0.000030</td>\n",
       "      <td>0.003829</td>\n",
       "      <td>0.000021</td>\n",
       "      <td>0.003663</td>\n",
       "      <td>0.002318</td>\n",
       "      <td>0.000329</td>\n",
       "      <td>7.839743e-07</td>\n",
       "      <td>0.000096</td>\n",
       "      <td>0.002578</td>\n",
       "      <td>0.000079</td>\n",
       "    </tr>\n",
       "    <tr>\n",
       "      <th>7559</th>\n",
       "      <td>0.000017</td>\n",
       "      <td>0.000178</td>\n",
       "      <td>0.001522</td>\n",
       "      <td>0.002052</td>\n",
       "      <td>0.000041</td>\n",
       "      <td>0.000787</td>\n",
       "      <td>0.013990</td>\n",
       "      <td>0.000452</td>\n",
       "      <td>0.035833</td>\n",
       "      <td>0.000199</td>\n",
       "      <td>...</td>\n",
       "      <td>0.000031</td>\n",
       "      <td>0.003746</td>\n",
       "      <td>0.000020</td>\n",
       "      <td>0.003997</td>\n",
       "      <td>0.002282</td>\n",
       "      <td>0.000324</td>\n",
       "      <td>7.852347e-07</td>\n",
       "      <td>0.000099</td>\n",
       "      <td>0.002535</td>\n",
       "      <td>0.000076</td>\n",
       "    </tr>\n",
       "    <tr>\n",
       "      <th>7560</th>\n",
       "      <td>0.000017</td>\n",
       "      <td>0.000191</td>\n",
       "      <td>0.001569</td>\n",
       "      <td>0.002053</td>\n",
       "      <td>0.000040</td>\n",
       "      <td>0.000772</td>\n",
       "      <td>0.012749</td>\n",
       "      <td>0.000445</td>\n",
       "      <td>0.034317</td>\n",
       "      <td>0.000200</td>\n",
       "      <td>...</td>\n",
       "      <td>0.000032</td>\n",
       "      <td>0.003556</td>\n",
       "      <td>0.000022</td>\n",
       "      <td>0.004001</td>\n",
       "      <td>0.002207</td>\n",
       "      <td>0.000321</td>\n",
       "      <td>7.852909e-07</td>\n",
       "      <td>0.000098</td>\n",
       "      <td>0.002386</td>\n",
       "      <td>0.000071</td>\n",
       "    </tr>\n",
       "  </tbody>\n",
       "</table>\n",
       "<p>7561 rows × 500 columns</p>\n",
       "</div>"
      ],
      "text/plain": [
       "           0         1         2         3         4         5         6    \\\n",
       "0     1.000000  1.000000  1.000000  1.000000  1.000000  1.000000  1.000000   \n",
       "1     1.027989  1.074892  0.989516  1.009296  0.952883  1.044366  0.953179   \n",
       "2     1.043654  1.069713  0.992571  1.040562  0.983310  1.012048  0.902085   \n",
       "3     1.022124  1.069618  0.994302  1.108903  0.982625  1.013753  0.890520   \n",
       "4     1.032773  1.092548  1.035866  1.154271  0.982251  1.029938  0.851803   \n",
       "...        ...       ...       ...       ...       ...       ...       ...   \n",
       "7556  0.000017  0.000175  0.001370  0.001989  0.000041  0.000827  0.013729   \n",
       "7557  0.000017  0.000173  0.001419  0.002042  0.000043  0.000800  0.014185   \n",
       "7558  0.000017  0.000176  0.001468  0.002018  0.000042  0.000799  0.013965   \n",
       "7559  0.000017  0.000178  0.001522  0.002052  0.000041  0.000787  0.013990   \n",
       "7560  0.000017  0.000191  0.001569  0.002053  0.000040  0.000772  0.012749   \n",
       "\n",
       "           7         8         9    ...       490       491       492  \\\n",
       "0     1.000000  1.000000  1.000000  ...  1.000000  1.000000  1.000000   \n",
       "1     0.959746  1.038082  0.977254  ...  0.999597  1.032231  1.017008   \n",
       "2     0.993642  1.054464  0.991412  ...  1.005441  1.108171  1.092013   \n",
       "3     0.962926  1.037306  0.937947  ...  1.053194  1.172860  1.063646   \n",
       "4     0.975712  1.025521  0.895520  ...  1.041532  1.145058  1.080920   \n",
       "...        ...       ...       ...  ...       ...       ...       ...   \n",
       "7556  0.000422  0.033542  0.000209  ...  0.000030  0.003982  0.000021   \n",
       "7557  0.000429  0.032557  0.000207  ...  0.000030  0.004056  0.000021   \n",
       "7558  0.000445  0.033971  0.000200  ...  0.000030  0.003829  0.000021   \n",
       "7559  0.000452  0.035833  0.000199  ...  0.000031  0.003746  0.000020   \n",
       "7560  0.000445  0.034317  0.000200  ...  0.000032  0.003556  0.000022   \n",
       "\n",
       "           493       494       495           496       497       498       499  \n",
       "0     1.000000  1.000000  1.000000  1.000000e+00  1.000000  1.000000  1.000000  \n",
       "1     0.974992  0.990346  0.975688  9.946866e-01  1.031171  1.020033  0.922421  \n",
       "2     0.984176  0.978640  0.952785  1.060326e+00  1.010930  0.980743  0.856294  \n",
       "3     0.948618  0.966776  0.986504  1.030115e+00  0.991121  0.967684  0.840170  \n",
       "4     0.912423  0.925570  1.025728  1.018052e+00  1.005931  0.949355  0.800594  \n",
       "...        ...       ...       ...           ...       ...       ...       ...  \n",
       "7556  0.003999  0.002214  0.000359  7.731854e-07  0.000099  0.002570  0.000076  \n",
       "7557  0.003924  0.002267  0.000346  7.812332e-07  0.000099  0.002491  0.000074  \n",
       "7558  0.003663  0.002318  0.000329  7.839743e-07  0.000096  0.002578  0.000079  \n",
       "7559  0.003997  0.002282  0.000324  7.852347e-07  0.000099  0.002535  0.000076  \n",
       "7560  0.004001  0.002207  0.000321  7.852909e-07  0.000098  0.002386  0.000071  \n",
       "\n",
       "[7561 rows x 500 columns]"
      ]
     },
     "execution_count": 36,
     "metadata": {},
     "output_type": "execute_result"
    }
   ],
   "source": [
    "# Run the Monte Carlo simulation to forecast 30 years cumulative returns\n",
    "MC_cryptothirtyyear.calc_cumulative_return()"
   ]
  },
  {
   "cell_type": "code",
   "execution_count": 37,
   "metadata": {},
   "outputs": [
    {
     "data": {
      "image/png": "[encoded data removed]",
      "text/plain": [
       "<Figure size 432x288 with 1 Axes>"
      ]
     },
     "metadata": {
      "needs_background": "light"
     },
     "output_type": "display_data"
    }
   ],
   "source": [
    "# Visualize the 30-year Monte Carlo simulation by creating an\n",
    "# overlay line plot\n",
    "MC_sim_line_plot = MC_cryptothirtyyear.plot_simulation()"
   ]
  },
  {
   "cell_type": "code",
   "execution_count": 38,
   "metadata": {},
   "outputs": [
    {
     "data": {
      "image/png": "[encoded data removed]",
      "text/plain": [
       "<Figure size 432x288 with 1 Axes>"
      ]
     },
     "metadata": {
      "needs_background": "light"
     },
     "output_type": "display_data"
    }
   ],
   "source": [
    "# Visualize the probability distribution of the 30-year Monte Carlo simulation \n",
    "# by plotting a histogram\n",
    "MC_sim_dist_plot = MC_cryptothirtyyear.plot_distribution()\n"
   ]
  },
  {
   "cell_type": "code",
   "execution_count": 39,
   "metadata": {},
   "outputs": [
    {
     "name": "stdout",
     "output_type": "stream",
     "text": [
      "count           5.000000e+02\n",
      "mean            2.958807e-02\n",
      "std             1.599550e-01\n",
      "min             5.306567e-08\n",
      "25%             7.223902e-05\n",
      "50%             5.803001e-04\n",
      "75%             5.171897e-03\n",
      "max             2.723305e+00\n",
      "95% CI Lower    8.709848e-07\n",
      "95% CI Upper    3.132435e-01\n",
      "Name: 7560, dtype: float64\n"
     ]
    }
   ],
   "source": [
    "# Generate summary statistics from the 30-year Monte Carlo simulation results\n",
    "# Save the results as a variable\n",
    "MC_summary_statistics = MC_cryptothirtyyear.summarize_cumulative_return()\n",
    "\n",
    "\n",
    "# Review the 30-year Monte Carlo summary statistics\n",
    "print(MC_summary_statistics)"
   ]
  },
  {
   "cell_type": "code",
   "execution_count": 41,
   "metadata": {},
   "outputs": [
    {
     "name": "stdout",
     "output_type": "stream",
     "text": [
      "The current balance of cryptocurrency is $1,000.00\n"
     ]
    }
   ],
   "source": [
    "# Print the current balance of the stock and bond portion of the members portfolio\n",
    "print(f\"The current balance of cryptocurrency is ${savings_amount:,.2f}\")"
   ]
  },
  {
   "cell_type": "code",
   "execution_count": 42,
   "metadata": {},
   "outputs": [
    {
     "name": "stdout",
     "output_type": "stream",
     "text": [
      "There is a 95% chance that the portfolio over the next 30 years will end within in the range of $0.00 and $313.24.\n"
     ]
    }
   ],
   "source": [
    "# Use the lower and upper `95%` confidence intervals to calculate the range of the possible outcomes for the current stock/bond portfolio\n",
    "ci_lower_thirty_cumulative_return = MC_summary_statistics[8]*savings_amount\n",
    "ci_upper_thirty_cumulative_return = MC_summary_statistics[9]*savings_amount\n",
    "\n",
    "# Print the result of your calculations\n",
    "print(f\"There is a 95% chance that the portfolio over the next 30 years will end within in the range of ${ci_lower_thirty_cumulative_return:,.2f} and ${ci_upper_thirty_cumulative_return:,.2f}.\")"
   ]
  },
  {
   "cell_type": "markdown",
   "metadata": {},
   "source": [
    "## Coding for FAANG portion begins here"
   ]
  },
  {
   "cell_type": "markdown",
   "metadata": {},
   "source": [
    "#### Set the variables for the Alpaca API and secret keys. Using the Alpaca SDK, create the Alpaca `tradeapi.REST` object. In this object, include the parameters for the Alpaca API key, the secret key, and the version number."
   ]
  },
  {
   "cell_type": "code",
   "execution_count": 22,
   "metadata": {},
   "outputs": [
    {
     "ename": "ValueError",
     "evalue": "('Key ID must be given to access Alpaca trade API', ' (env: APCA_API_KEY_ID)')",
     "output_type": "error",
     "traceback": [
      "\u001b[1;31m---------------------------------------------------------------------------\u001b[0m",
      "\u001b[1;31mValueError\u001b[0m                                Traceback (most recent call last)",
      "\u001b[1;32m<ipython-input-22-ac18dd36acaf>\u001b[0m in \u001b[0;36m<module>\u001b[1;34m\u001b[0m\n\u001b[0;32m      7\u001b[0m     \u001b[0malpaca_api_key\u001b[0m\u001b[1;33m,\u001b[0m\u001b[1;33m\u001b[0m\u001b[1;33m\u001b[0m\u001b[0m\n\u001b[0;32m      8\u001b[0m     \u001b[0malpaca_secret_key\u001b[0m\u001b[1;33m,\u001b[0m\u001b[1;33m\u001b[0m\u001b[1;33m\u001b[0m\u001b[0m\n\u001b[1;32m----> 9\u001b[1;33m     api_version=\"v2\")\n\u001b[0m",
      "\u001b[1;32m~\\anaconda3\\envs\\dev\\lib\\site-packages\\alpaca_trade_api\\rest.py\u001b[0m in \u001b[0;36m__init__\u001b[1;34m(self, key_id, secret_key, base_url, api_version, oauth, raw_data)\u001b[0m\n\u001b[0;32m     92\u001b[0m         \"\"\"\n\u001b[0;32m     93\u001b[0m         self._key_id, self._secret_key, self._oauth = get_credentials(\n\u001b[1;32m---> 94\u001b[1;33m             key_id, secret_key, oauth)\n\u001b[0m\u001b[0;32m     95\u001b[0m         \u001b[0mself\u001b[0m\u001b[1;33m.\u001b[0m\u001b[0m_base_url\u001b[0m\u001b[1;33m:\u001b[0m \u001b[0mURL\u001b[0m \u001b[1;33m=\u001b[0m \u001b[0mURL\u001b[0m\u001b[1;33m(\u001b[0m\u001b[0mbase_url\u001b[0m \u001b[1;32mor\u001b[0m \u001b[0mget_base_url\u001b[0m\u001b[1;33m(\u001b[0m\u001b[1;33m)\u001b[0m\u001b[1;33m)\u001b[0m\u001b[1;33m\u001b[0m\u001b[1;33m\u001b[0m\u001b[0m\n\u001b[0;32m     96\u001b[0m         \u001b[0mself\u001b[0m\u001b[1;33m.\u001b[0m\u001b[0m_api_version\u001b[0m \u001b[1;33m=\u001b[0m \u001b[0mget_api_version\u001b[0m\u001b[1;33m(\u001b[0m\u001b[0mapi_version\u001b[0m\u001b[1;33m)\u001b[0m\u001b[1;33m\u001b[0m\u001b[1;33m\u001b[0m\u001b[0m\n",
      "\u001b[1;32m~\\anaconda3\\envs\\dev\\lib\\site-packages\\alpaca_trade_api\\common.py\u001b[0m in \u001b[0;36mget_credentials\u001b[1;34m(key_id, secret_key, oauth)\u001b[0m\n\u001b[0;32m     81\u001b[0m     \u001b[1;32mif\u001b[0m \u001b[0mkey_id\u001b[0m \u001b[1;32mis\u001b[0m \u001b[1;32mNone\u001b[0m \u001b[1;32mand\u001b[0m \u001b[0moauth\u001b[0m \u001b[1;32mis\u001b[0m \u001b[1;32mNone\u001b[0m\u001b[1;33m:\u001b[0m\u001b[1;33m\u001b[0m\u001b[1;33m\u001b[0m\u001b[0m\n\u001b[0;32m     82\u001b[0m         raise ValueError('Key ID must be given to access Alpaca trade API',\n\u001b[1;32m---> 83\u001b[1;33m                          ' (env: APCA_API_KEY_ID)')\n\u001b[0m\u001b[0;32m     84\u001b[0m \u001b[1;33m\u001b[0m\u001b[0m\n\u001b[0;32m     85\u001b[0m     \u001b[0msecret_key\u001b[0m \u001b[1;33m=\u001b[0m \u001b[0msecret_key\u001b[0m \u001b[1;32mor\u001b[0m \u001b[0mos\u001b[0m\u001b[1;33m.\u001b[0m\u001b[0menviron\u001b[0m\u001b[1;33m.\u001b[0m\u001b[0mget\u001b[0m\u001b[1;33m(\u001b[0m\u001b[1;34m'APCA_API_SECRET_KEY'\u001b[0m\u001b[1;33m)\u001b[0m\u001b[1;33m\u001b[0m\u001b[1;33m\u001b[0m\u001b[0m\n",
      "\u001b[1;31mValueError\u001b[0m: ('Key ID must be given to access Alpaca trade API', ' (env: APCA_API_KEY_ID)')"
     ]
    }
   ],
   "source": [
    "# Set the variables for the Alpaca API and secret keys\n",
    "alpaca_api_key = os.getenv(\"ALPACA_API_KEY\")\n",
    "alpaca_secret_key = os.getenv(\"ALPACA_SECRET_KEY\")\n",
    "\n",
    "# Create the Alpaca tradeapi.REST object\n",
    "alpaca = tradeapi.REST(\n",
    "    alpaca_api_key,\n",
    "    alpaca_secret_key,\n",
    "    api_version=\"v2\")\n"
   ]
  },
  {
   "cell_type": "markdown",
   "metadata": {},
   "source": [
    "#### Set the following parameters for the Alpaca API call:\n",
    "\n",
    "- `tickers`: Use the tickers for the member’s stock and bond holdings.\n",
    "\n",
    "- `timeframe`: Use a time frame of one day.\n",
    "\n",
    "- `start_date` and `end_date`: Use the same date for these parameters, and format them with the date of the previous weekday (or `2020-08-07`). This is because you want the one closing price for the most-recent trading day.\n"
   ]
  },
  {
   "cell_type": "code",
   "execution_count": null,
   "metadata": {},
   "outputs": [],
   "source": [
    "# Set the tickers for both the bond and stock portion of the portfolio\n",
    "tickers = [\"FB\", \"AMZN\", \"AAPL\", \"NFLX\", \"GOOG\"]\n",
    "\n",
    "# Set timeframe to 1D \n",
    "timeframe = \"1D\"\n",
    "\n",
    "# Format current date as ISO format\n",
    "# Set both the start and end date at the date of your prior weekday \n",
    "# This will give you the closing price of the previous trading day\n",
    "# Alternatively you can use a start and end date of 2020-08-07\n",
    "start_date = pd.Timestamp(\"2021-07-30\", tz=\"America/New_York\").isoformat()\n",
    "end_date = pd.Timestamp(\"2021-07-30\", tz=\"America/New_York\").isoformat()\n"
   ]
  },
  {
   "cell_type": "markdown",
   "metadata": {},
   "source": [
    "#### Step 4: Get the current closing prices for `SPY` and `AGG` by using the Alpaca `get_barset` function. Format the response as a Pandas DataFrame by including the `df` property at the end of the `get_barset` function."
   ]
  },
  {
   "cell_type": "code",
   "execution_count": null,
   "metadata": {},
   "outputs": [],
   "source": [
    "# Use the Alpaca get_barset function to get current closing prices the portfolio\n",
    "# Be sure to set the `df` property after the function to format the response object as a DataFrame\n",
    "df_portfolio = alpaca.get_barset(\n",
    "    tickers,\n",
    "    timeframe,\n",
    "    start = start_date,\n",
    "    end = end_date\n",
    ").df\n",
    "\n",
    "# Review the first 5 rows of the Alpaca DataFrame\n",
    "df_portfolio.head()\n"
   ]
  },
  {
   "cell_type": "code",
   "execution_count": null,
   "metadata": {},
   "outputs": [],
   "source": [
    "# Access the closing price for FB from the Alpaca DataFrame\n",
    "# Converting the value to a floating point number\n",
    "fb_close_price = df_portfolio[\"FB\"][\"close\"]\n",
    "fb_close_price = float(fb_close_price)\n",
    "# Print the FB closing price\n",
    "print(f\"The closing price of Facebook is ${fb_close_price:,.2f}\")"
   ]
  },
  {
   "cell_type": "code",
   "execution_count": null,
   "metadata": {},
   "outputs": [],
   "source": [
    "# Access the closing price for AMZN from the Alpaca DataFrame\n",
    "# Converting the value to a floating point number\n",
    "amzn_close_price = df_portfolio[\"AMZN\"][\"close\"]\n",
    "amzn_close_price = float(amzn_close_price)\n",
    "# Print the AMZN closing price\n",
    "print(f\"The closing price of Amazon is ${amzn_close_price:,.2f}\")"
   ]
  },
  {
   "cell_type": "code",
   "execution_count": null,
   "metadata": {},
   "outputs": [],
   "source": [
    "# Access the closing price for FB from the Alpaca DataFrame\n",
    "# Converting the value to a floating point number\n",
    "aapl_close_price = df_portfolio[\"AAPL\"][\"close\"]\n",
    "aapl_close_price = float(aapl_close_price)\n",
    "# Print the AAPL closing price\n",
    "print(f\"The closing price of Apple is ${aapl_close_price:,.2f}\")"
   ]
  },
  {
   "cell_type": "code",
   "execution_count": null,
   "metadata": {},
   "outputs": [],
   "source": [
    "# Access the closing price for FB from the Alpaca DataFrame\n",
    "# Converting the value to a floating point number\n",
    "nflx_close_price = df_portfolio[\"NFLX\"][\"close\"]\n",
    "nflx_close_price = float(nflx_close_price)\n",
    "# Print the NFLX closing price\n",
    "print(f\"The closing price of Netflix is ${nflx_close_price:,.2f}\")"
   ]
  },
  {
   "cell_type": "code",
   "execution_count": null,
   "metadata": {},
   "outputs": [],
   "source": [
    "# Access the closing price for GOOG from the Alpaca DataFrame\n",
    "# Converting the value to a floating point number\n",
    "goog_close_price = df_portfolio[\"GOOG\"][\"close\"]\n",
    "goog_close_price = float(goog_close_price)\n",
    "# Print the GOOG closing price\n",
    "print(f\"The closing price of Google is ${goog_close_price:,.2f}\")"
   ]
  },
  {
   "cell_type": "markdown",
   "metadata": {},
   "source": [
    "## Create a Financial Planner for Retirement"
   ]
  },
  {
   "cell_type": "markdown",
   "metadata": {},
   "source": [
    "### Create the Monte Carlo Simulation\n",
    "\n",
    "In this section, you’ll use the MCForecastTools library to create a Monte Carlo simulation for the member’s savings portfolio. To do this, complete the following steps:\n",
    "\n",
    "1. Make an API call via the Alpaca SDK to get 3 years of historical closing prices for an even 5-way split between FAANG stocks.\n",
    "\n",
    "2. Run a Monte Carlo simulation of 500 samples and (ANSWER FROM QUESTIONAIRE) for the FAANG portfolio, and then plot the results.The following image shows the overlay line plot resulting from a simulation with these characteristics.\n",
    "\n",
    "3. Plot the probability distribution of the Monte Carlo simulation. Plot the probability distribution of the Monte Carlo simulation. The following image shows the histogram plot resulting from a simulation with these characteristics.\n",
    "\n",
    "4. Generate the summary statistics for the Monte Carlo simulation.\n",
    "\n"
   ]
  },
  {
   "cell_type": "markdown",
   "metadata": {},
   "source": [
    "#### Step 1: Make an API call via the Alpaca SDK to get 3 years of historical closing prices for a traditional 60/40 portfolio split: 60% stocks (SPY) and 40% bonds (AGG)."
   ]
  },
  {
   "cell_type": "code",
   "execution_count": null,
   "metadata": {},
   "outputs": [],
   "source": [
    "# Set start and end dates of 3 years back from your current date\n",
    "# Alternatively, you can use an end date of 2020-08-07 and work 3 years back from that date \n",
    "start_date = pd.Timestamp(\"2018-07-30\", tz=\"America/New_York\").isoformat()\n",
    "end_date = pd.Timestamp(\"2021-07-30\", tz=\"America/New_York\").isoformat()\n",
    "\n",
    "# Set number of rows to 1000 to retrieve the maximum amount of rows\n",
    "limit_rows = 1000"
   ]
  },
  {
   "cell_type": "code",
   "execution_count": null,
   "metadata": {},
   "outputs": [],
   "source": [
    "# Use the Alpaca get_barset function to make the API call to get the 3 years worth of pricing data\n",
    "# The tickers and timeframe parameters should have been set in Part 1 of this activity \n",
    "# The start and end dates should be updated with the information set above\n",
    "# Remember to add the df property to the end of the call so the response is returned as a DataFrame\n",
    "prices_df = alpaca.get_barset(\n",
    "  tickers,\n",
    "  timeframe,\n",
    "  start=start_date,\n",
    "  end=end_date,\n",
    "  limit=limit_rows\n",
    ").df\n",
    "\n",
    "\n",
    "# Display both the first and last five rows of the DataFrame\n",
    "display(prices_df.head())\n",
    "display(prices_df.tail())\n"
   ]
  },
  {
   "cell_type": "markdown",
   "metadata": {},
   "source": [
    "#### Step 2: Run a Monte Carlo simulation of 500 samples and 30 years for the 60/40 portfolio, and then plot the results."
   ]
  },
  {
   "cell_type": "code",
   "execution_count": null,
   "metadata": {},
   "outputs": [],
   "source": [
    "# Configure the Monte Carlo simulation to forecast 30 years cumulative returns\n",
    "# Run 500 samples.\n",
    "MC_thirtyyear = MCSimulation(\n",
    "  portfolio_data = prices_df,\n",
    "  weights = [.2, .2, .2, .2, .2],\n",
    "  num_simulation = 500,\n",
    "  num_trading_days = 252*30\n",
    ")\n",
    "\n",
    "# Review the simulation input data\n",
    "MC_thirtyyear.portfolio_data.head()\n"
   ]
  },
  {
   "cell_type": "code",
   "execution_count": null,
   "metadata": {},
   "outputs": [],
   "source": [
    "# Run the Monte Carlo simulation to forecast 30 years cumulative returns\n",
    "MC_thirtyyear.calc_cumulative_return()\n"
   ]
  },
  {
   "cell_type": "code",
   "execution_count": null,
   "metadata": {},
   "outputs": [],
   "source": [
    "# Visualize the 30-year Monte Carlo simulation by creating an\n",
    "# overlay line plot\n",
    "MC_sim_line_plot = MC_thirtyyear.plot_simulation()\n"
   ]
  },
  {
   "cell_type": "markdown",
   "metadata": {},
   "source": [
    "#### Plot the probability distribution of the Monte Carlo simulation."
   ]
  },
  {
   "cell_type": "code",
   "execution_count": null,
   "metadata": {},
   "outputs": [],
   "source": [
    "# Visualize the probability distribution of the 30-year Monte Carlo simulation \n",
    "# by plotting a histogram\n",
    "MC_sim_dist_plot = MC_thirtyyear.plot_distribution()\n"
   ]
  },
  {
   "cell_type": "markdown",
   "metadata": {},
   "source": [
    "#### Generate the summary statistics for the Monte Carlo simulation."
   ]
  },
  {
   "cell_type": "code",
   "execution_count": null,
   "metadata": {},
   "outputs": [],
   "source": [
    "# Generate summary statistics from the 30-year Monte Carlo simulation results\n",
    "# Save the results as a variable\n",
    "MC_summary_statistics = MC_thirtyyear.summarize_cumulative_return()\n",
    "\n",
    "\n",
    "# Review the 30-year Monte Carlo summary statistics\n",
    "print(MC_summary_statistics)"
   ]
  },
  {
   "cell_type": "markdown",
   "metadata": {},
   "source": [
    "### Analyze the Retirement Portfolio Forecasts\n",
    "\n",
    "Using the current value of only the stock and bond portion of the member's portfolio and the summary statistics that you generated from the Monte Carlo simulation, answer the following question in your Jupyter notebook:\n",
    "\n",
    "-  What are the lower and upper bounds for the expected value of the portfolio with a 95% confidence interval?\n"
   ]
  },
  {
   "cell_type": "code",
   "execution_count": null,
   "metadata": {},
   "outputs": [],
   "source": [
    "# Print the current balance of the stock and bond portion of the members portfolio\n",
    "print(f\"The current balance of your investing in FAANG stocks is ${savings_amount:,.2f}\")\n"
   ]
  },
  {
   "cell_type": "code",
   "execution_count": null,
   "metadata": {},
   "outputs": [],
   "source": [
    "# Use the lower and upper `95%` confidence intervals to calculate the range of the possible outcomes for the current stock/bond portfolio\n",
    "ci_lower_thirty_cumulative_return = MC_summary_statistics[8]*savings_amount\n",
    "ci_upper_thirty_cumulative_return = MC_summary_statistics[9]*savings_amount\n",
    "\n",
    "# Print the result of your calculations\n",
    "print(f\"There is a 95% chance that the portfolio over the next 30 years will end within in the range of ${ci_lower_thirty_cumulative_return:,.2f} and ${ci_upper_thirty_cumulative_return:,.2f}.\")\n"
   ]
  },
  {
   "cell_type": "markdown",
   "metadata": {},
   "source": [
    "## Coding for top 3 most popular mutual funds in 401(k) plans\n",
    "https://www.yahoo.com/now/100-most-popular-mutual-funds-183200089.html"
   ]
  },
  {
   "cell_type": "code",
   "execution_count": null,
   "metadata": {},
   "outputs": [],
   "source": [
    "tickers = [\"VINIX\", \"FXAIX\", \"AEPGX\"]"
   ]
  },
  {
   "cell_type": "code",
   "execution_count": null,
   "metadata": {},
   "outputs": [],
   "source": [
    "prices_df = alpaca.get_barset(\n",
    "  tickers,\n",
    "  timeframe,\n",
    "  start=start_date,\n",
    "  end=end_date,\n",
    "  limit=limit_rows\n",
    ").df"
   ]
  },
  {
   "cell_type": "code",
   "execution_count": null,
   "metadata": {},
   "outputs": [],
   "source": [
    "display(prices_df.head())\n",
    "display(prices_df.tail())"
   ]
  }
 ],
 "metadata": {
  "kernelspec": {
   "display_name": "Python (dev)",
   "language": "python",
   "name": "dev"
  },
  "language_info": {
   "codemirror_mode": {
    "name": "ipython",
    "version": 3
   },
   "file_extension": ".py",
   "mimetype": "text/x-python",
   "name": "python",
   "nbconvert_exporter": "python",
   "pygments_lexer": "ipython3",
   "version": "3.7.10"
  }
 },
 "nbformat": 4,
 "nbformat_minor": 4
}
